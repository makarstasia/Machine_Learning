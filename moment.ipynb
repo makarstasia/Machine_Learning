{
 "cells": [
  {
   "cell_type": "code",
   "execution_count": 1,
   "id": "d17f7022",
   "metadata": {
    "execution": {
     "iopub.execute_input": "2023-03-19T20:12:33.367287Z",
     "iopub.status.busy": "2023-03-19T20:12:33.365969Z",
     "iopub.status.idle": "2023-03-19T20:12:33.380610Z",
     "shell.execute_reply": "2023-03-19T20:12:33.379635Z"
    },
    "papermill": {
     "duration": 0.024557,
     "end_time": "2023-03-19T20:12:33.382999",
     "exception": false,
     "start_time": "2023-03-19T20:12:33.358442",
     "status": "completed"
    },
    "tags": []
   },
   "outputs": [],
   "source": [
    "import pandas as pd\n",
    "import numpy as np\n",
    "import math\n",
    "import matplotlib.pyplot as plt\n",
    "import time \n",
    "from statistics import mean"
   ]
  },
  {
   "cell_type": "code",
   "execution_count": 2,
   "id": "3bed333f",
   "metadata": {
    "execution": {
     "iopub.execute_input": "2023-03-19T20:12:33.394958Z",
     "iopub.status.busy": "2023-03-19T20:12:33.393773Z",
     "iopub.status.idle": "2023-03-19T20:12:33.473452Z",
     "shell.execute_reply": "2023-03-19T20:12:33.472132Z"
    },
    "papermill": {
     "duration": 0.088195,
     "end_time": "2023-03-19T20:12:33.475999",
     "exception": false,
     "start_time": "2023-03-19T20:12:33.387804",
     "status": "completed"
    },
    "tags": []
   },
   "outputs": [
    {
     "data": {
      "text/html": [
       "<div>\n",
       "<style scoped>\n",
       "    .dataframe tbody tr th:only-of-type {\n",
       "        vertical-align: middle;\n",
       "    }\n",
       "\n",
       "    .dataframe tbody tr th {\n",
       "        vertical-align: top;\n",
       "    }\n",
       "\n",
       "    .dataframe thead th {\n",
       "        text-align: right;\n",
       "    }\n",
       "</style>\n",
       "<table border=\"1\" class=\"dataframe\">\n",
       "  <thead>\n",
       "    <tr style=\"text-align: right;\">\n",
       "      <th></th>\n",
       "      <th>Id</th>\n",
       "      <th>MSSubClass</th>\n",
       "      <th>MSZoning</th>\n",
       "      <th>LotFrontage</th>\n",
       "      <th>LotArea</th>\n",
       "      <th>Street</th>\n",
       "      <th>Alley</th>\n",
       "      <th>LotShape</th>\n",
       "      <th>LandContour</th>\n",
       "      <th>Utilities</th>\n",
       "      <th>...</th>\n",
       "      <th>PoolArea</th>\n",
       "      <th>PoolQC</th>\n",
       "      <th>Fence</th>\n",
       "      <th>MiscFeature</th>\n",
       "      <th>MiscVal</th>\n",
       "      <th>MoSold</th>\n",
       "      <th>YrSold</th>\n",
       "      <th>SaleType</th>\n",
       "      <th>SaleCondition</th>\n",
       "      <th>SalePrice</th>\n",
       "    </tr>\n",
       "  </thead>\n",
       "  <tbody>\n",
       "    <tr>\n",
       "      <th>0</th>\n",
       "      <td>1</td>\n",
       "      <td>60</td>\n",
       "      <td>RL</td>\n",
       "      <td>65.0</td>\n",
       "      <td>8450</td>\n",
       "      <td>Pave</td>\n",
       "      <td>NaN</td>\n",
       "      <td>Reg</td>\n",
       "      <td>Lvl</td>\n",
       "      <td>AllPub</td>\n",
       "      <td>...</td>\n",
       "      <td>0</td>\n",
       "      <td>NaN</td>\n",
       "      <td>NaN</td>\n",
       "      <td>NaN</td>\n",
       "      <td>0</td>\n",
       "      <td>2</td>\n",
       "      <td>2008</td>\n",
       "      <td>WD</td>\n",
       "      <td>Normal</td>\n",
       "      <td>208500</td>\n",
       "    </tr>\n",
       "    <tr>\n",
       "      <th>1</th>\n",
       "      <td>2</td>\n",
       "      <td>20</td>\n",
       "      <td>RL</td>\n",
       "      <td>80.0</td>\n",
       "      <td>9600</td>\n",
       "      <td>Pave</td>\n",
       "      <td>NaN</td>\n",
       "      <td>Reg</td>\n",
       "      <td>Lvl</td>\n",
       "      <td>AllPub</td>\n",
       "      <td>...</td>\n",
       "      <td>0</td>\n",
       "      <td>NaN</td>\n",
       "      <td>NaN</td>\n",
       "      <td>NaN</td>\n",
       "      <td>0</td>\n",
       "      <td>5</td>\n",
       "      <td>2007</td>\n",
       "      <td>WD</td>\n",
       "      <td>Normal</td>\n",
       "      <td>181500</td>\n",
       "    </tr>\n",
       "    <tr>\n",
       "      <th>2</th>\n",
       "      <td>3</td>\n",
       "      <td>60</td>\n",
       "      <td>RL</td>\n",
       "      <td>68.0</td>\n",
       "      <td>11250</td>\n",
       "      <td>Pave</td>\n",
       "      <td>NaN</td>\n",
       "      <td>IR1</td>\n",
       "      <td>Lvl</td>\n",
       "      <td>AllPub</td>\n",
       "      <td>...</td>\n",
       "      <td>0</td>\n",
       "      <td>NaN</td>\n",
       "      <td>NaN</td>\n",
       "      <td>NaN</td>\n",
       "      <td>0</td>\n",
       "      <td>9</td>\n",
       "      <td>2008</td>\n",
       "      <td>WD</td>\n",
       "      <td>Normal</td>\n",
       "      <td>223500</td>\n",
       "    </tr>\n",
       "    <tr>\n",
       "      <th>3</th>\n",
       "      <td>4</td>\n",
       "      <td>70</td>\n",
       "      <td>RL</td>\n",
       "      <td>60.0</td>\n",
       "      <td>9550</td>\n",
       "      <td>Pave</td>\n",
       "      <td>NaN</td>\n",
       "      <td>IR1</td>\n",
       "      <td>Lvl</td>\n",
       "      <td>AllPub</td>\n",
       "      <td>...</td>\n",
       "      <td>0</td>\n",
       "      <td>NaN</td>\n",
       "      <td>NaN</td>\n",
       "      <td>NaN</td>\n",
       "      <td>0</td>\n",
       "      <td>2</td>\n",
       "      <td>2006</td>\n",
       "      <td>WD</td>\n",
       "      <td>Abnorml</td>\n",
       "      <td>140000</td>\n",
       "    </tr>\n",
       "    <tr>\n",
       "      <th>4</th>\n",
       "      <td>5</td>\n",
       "      <td>60</td>\n",
       "      <td>RL</td>\n",
       "      <td>84.0</td>\n",
       "      <td>14260</td>\n",
       "      <td>Pave</td>\n",
       "      <td>NaN</td>\n",
       "      <td>IR1</td>\n",
       "      <td>Lvl</td>\n",
       "      <td>AllPub</td>\n",
       "      <td>...</td>\n",
       "      <td>0</td>\n",
       "      <td>NaN</td>\n",
       "      <td>NaN</td>\n",
       "      <td>NaN</td>\n",
       "      <td>0</td>\n",
       "      <td>12</td>\n",
       "      <td>2008</td>\n",
       "      <td>WD</td>\n",
       "      <td>Normal</td>\n",
       "      <td>250000</td>\n",
       "    </tr>\n",
       "  </tbody>\n",
       "</table>\n",
       "<p>5 rows × 81 columns</p>\n",
       "</div>"
      ],
      "text/plain": [
       "   Id  MSSubClass MSZoning  LotFrontage  LotArea Street Alley LotShape  \\\n",
       "0   1          60       RL         65.0     8450   Pave   NaN      Reg   \n",
       "1   2          20       RL         80.0     9600   Pave   NaN      Reg   \n",
       "2   3          60       RL         68.0    11250   Pave   NaN      IR1   \n",
       "3   4          70       RL         60.0     9550   Pave   NaN      IR1   \n",
       "4   5          60       RL         84.0    14260   Pave   NaN      IR1   \n",
       "\n",
       "  LandContour Utilities  ... PoolArea PoolQC Fence MiscFeature MiscVal MoSold  \\\n",
       "0         Lvl    AllPub  ...        0    NaN   NaN         NaN       0      2   \n",
       "1         Lvl    AllPub  ...        0    NaN   NaN         NaN       0      5   \n",
       "2         Lvl    AllPub  ...        0    NaN   NaN         NaN       0      9   \n",
       "3         Lvl    AllPub  ...        0    NaN   NaN         NaN       0      2   \n",
       "4         Lvl    AllPub  ...        0    NaN   NaN         NaN       0     12   \n",
       "\n",
       "  YrSold  SaleType  SaleCondition  SalePrice  \n",
       "0   2008        WD         Normal     208500  \n",
       "1   2007        WD         Normal     181500  \n",
       "2   2008        WD         Normal     223500  \n",
       "3   2006        WD        Abnorml     140000  \n",
       "4   2008        WD         Normal     250000  \n",
       "\n",
       "[5 rows x 81 columns]"
      ]
     },
     "execution_count": 2,
     "metadata": {},
     "output_type": "execute_result"
    }
   ],
   "source": [
    "train = pd.read_csv(\"../input/intro2ml-kpfu-1/train.csv\")\n",
    "train.head()"
   ]
  },
  {
   "cell_type": "code",
   "execution_count": 3,
   "id": "56b42378",
   "metadata": {
    "execution": {
     "iopub.execute_input": "2023-03-19T20:12:33.488863Z",
     "iopub.status.busy": "2023-03-19T20:12:33.487727Z",
     "iopub.status.idle": "2023-03-19T20:12:33.503724Z",
     "shell.execute_reply": "2023-03-19T20:12:33.502720Z"
    },
    "papermill": {
     "duration": 0.024693,
     "end_time": "2023-03-19T20:12:33.505974",
     "exception": false,
     "start_time": "2023-03-19T20:12:33.481281",
     "status": "completed"
    },
    "tags": []
   },
   "outputs": [
    {
     "data": {
      "text/html": [
       "<div>\n",
       "<style scoped>\n",
       "    .dataframe tbody tr th:only-of-type {\n",
       "        vertical-align: middle;\n",
       "    }\n",
       "\n",
       "    .dataframe tbody tr th {\n",
       "        vertical-align: top;\n",
       "    }\n",
       "\n",
       "    .dataframe thead th {\n",
       "        text-align: right;\n",
       "    }\n",
       "</style>\n",
       "<table border=\"1\" class=\"dataframe\">\n",
       "  <thead>\n",
       "    <tr style=\"text-align: right;\">\n",
       "      <th></th>\n",
       "      <th>SalePrice</th>\n",
       "      <th>LotArea</th>\n",
       "      <th>LotFrontage</th>\n",
       "      <th>1stFlrSF</th>\n",
       "      <th>OverallQual</th>\n",
       "      <th>GarageArea</th>\n",
       "      <th>YearBuilt</th>\n",
       "      <th>TotalBsmtSF</th>\n",
       "      <th>2ndFlrSF</th>\n",
       "    </tr>\n",
       "  </thead>\n",
       "  <tbody>\n",
       "    <tr>\n",
       "      <th>0</th>\n",
       "      <td>208500</td>\n",
       "      <td>8450</td>\n",
       "      <td>65.0</td>\n",
       "      <td>856</td>\n",
       "      <td>7</td>\n",
       "      <td>548</td>\n",
       "      <td>2003</td>\n",
       "      <td>856</td>\n",
       "      <td>854</td>\n",
       "    </tr>\n",
       "    <tr>\n",
       "      <th>1</th>\n",
       "      <td>181500</td>\n",
       "      <td>9600</td>\n",
       "      <td>80.0</td>\n",
       "      <td>1262</td>\n",
       "      <td>6</td>\n",
       "      <td>460</td>\n",
       "      <td>1976</td>\n",
       "      <td>1262</td>\n",
       "      <td>0</td>\n",
       "    </tr>\n",
       "    <tr>\n",
       "      <th>2</th>\n",
       "      <td>223500</td>\n",
       "      <td>11250</td>\n",
       "      <td>68.0</td>\n",
       "      <td>920</td>\n",
       "      <td>7</td>\n",
       "      <td>608</td>\n",
       "      <td>2001</td>\n",
       "      <td>920</td>\n",
       "      <td>866</td>\n",
       "    </tr>\n",
       "    <tr>\n",
       "      <th>3</th>\n",
       "      <td>140000</td>\n",
       "      <td>9550</td>\n",
       "      <td>60.0</td>\n",
       "      <td>961</td>\n",
       "      <td>7</td>\n",
       "      <td>642</td>\n",
       "      <td>1915</td>\n",
       "      <td>756</td>\n",
       "      <td>756</td>\n",
       "    </tr>\n",
       "    <tr>\n",
       "      <th>4</th>\n",
       "      <td>250000</td>\n",
       "      <td>14260</td>\n",
       "      <td>84.0</td>\n",
       "      <td>1145</td>\n",
       "      <td>8</td>\n",
       "      <td>836</td>\n",
       "      <td>2000</td>\n",
       "      <td>1145</td>\n",
       "      <td>1053</td>\n",
       "    </tr>\n",
       "  </tbody>\n",
       "</table>\n",
       "</div>"
      ],
      "text/plain": [
       "   SalePrice  LotArea  LotFrontage  1stFlrSF  OverallQual  GarageArea  \\\n",
       "0     208500     8450         65.0       856            7         548   \n",
       "1     181500     9600         80.0      1262            6         460   \n",
       "2     223500    11250         68.0       920            7         608   \n",
       "3     140000     9550         60.0       961            7         642   \n",
       "4     250000    14260         84.0      1145            8         836   \n",
       "\n",
       "   YearBuilt  TotalBsmtSF  2ndFlrSF  \n",
       "0       2003          856       854  \n",
       "1       1976         1262         0  \n",
       "2       2001          920       866  \n",
       "3       1915          756       756  \n",
       "4       2000         1145      1053  "
      ]
     },
     "execution_count": 3,
     "metadata": {},
     "output_type": "execute_result"
    }
   ],
   "source": [
    "h_sales= train[['SalePrice','LotArea','LotFrontage','1stFlrSF','OverallQual','GarageArea','YearBuilt','TotalBsmtSF','2ndFlrSF',]].fillna (0)\n",
    "h_sales.head()"
   ]
  },
  {
   "cell_type": "code",
   "execution_count": 4,
   "id": "cc7b9b77",
   "metadata": {
    "execution": {
     "iopub.execute_input": "2023-03-19T20:12:33.518595Z",
     "iopub.status.busy": "2023-03-19T20:12:33.518152Z",
     "iopub.status.idle": "2023-03-19T20:12:33.533527Z",
     "shell.execute_reply": "2023-03-19T20:12:33.532279Z"
    },
    "papermill": {
     "duration": 0.024835,
     "end_time": "2023-03-19T20:12:33.536199",
     "exception": false,
     "start_time": "2023-03-19T20:12:33.511364",
     "status": "completed"
    },
    "tags": []
   },
   "outputs": [
    {
     "data": {
      "text/plain": [
       "array([[ 8450.,    65.,   856., ...,  2003.,   856.,   854.],\n",
       "       [ 9600.,    80.,  1262., ...,  1976.,  1262.,     0.],\n",
       "       [11250.,    68.,   920., ...,  2001.,   920.,   866.],\n",
       "       ...,\n",
       "       [ 9042.,    66.,  1188., ...,  1941.,  1152.,  1152.],\n",
       "       [ 9717.,    68.,  1078., ...,  1950.,  1078.,     0.],\n",
       "       [ 9937.,    75.,  1256., ...,  1965.,  1256.,     0.]])"
      ]
     },
     "execution_count": 4,
     "metadata": {},
     "output_type": "execute_result"
    }
   ],
   "source": [
    "n = len(h_sales)\n",
    "# n - количество объектов\n",
    "m = len(h_sales.drop('SalePrice', axis=1).columns)\n",
    "# m - количество признаков(колонок)\n",
    "y = h_sales['SalePrice'].values.reshape((n, 1)) #транспонируем строку(массив) с ценами\n",
    "X = h_sales.drop('SalePrice',  axis=1).values.reshape((n, m))\n",
    "X"
   ]
  },
  {
   "cell_type": "code",
   "execution_count": 5,
   "id": "5951c65d",
   "metadata": {
    "execution": {
     "iopub.execute_input": "2023-03-19T20:12:33.549415Z",
     "iopub.status.busy": "2023-03-19T20:12:33.548754Z",
     "iopub.status.idle": "2023-03-19T20:12:33.553281Z",
     "shell.execute_reply": "2023-03-19T20:12:33.552458Z"
    },
    "papermill": {
     "duration": 0.01375,
     "end_time": "2023-03-19T20:12:33.555561",
     "exception": false,
     "start_time": "2023-03-19T20:12:33.541811",
     "status": "completed"
    },
    "tags": []
   },
   "outputs": [],
   "source": [
    "X = np.hstack((np.ones((n, 1)), X)) #расширим матрицу признаков сложив с единичной"
   ]
  },
  {
   "cell_type": "code",
   "execution_count": 6,
   "id": "b906682e",
   "metadata": {
    "execution": {
     "iopub.execute_input": "2023-03-19T20:12:33.568790Z",
     "iopub.status.busy": "2023-03-19T20:12:33.568091Z",
     "iopub.status.idle": "2023-03-19T20:12:33.574946Z",
     "shell.execute_reply": "2023-03-19T20:12:33.573630Z"
    },
    "papermill": {
     "duration": 0.016882,
     "end_time": "2023-03-19T20:12:33.577915",
     "exception": false,
     "start_time": "2023-03-19T20:12:33.561033",
     "status": "completed"
    },
    "tags": []
   },
   "outputs": [],
   "source": [
    "def compute_loss(y, tx, w, flag=0):\n",
    "    \"\"\"Функция потерь\n",
    "    \"\"\"\n",
    "    # w = [1, 2].transpose()\n",
    "\n",
    "    e = y -np.dot(tx, w)\n",
    "\n",
    "    if(flag == 0):\n",
    "        loss_result_mse = 0.5 * np.mean(e**2) #квадратичная \n",
    "        return loss_result_mse\n",
    "    \n",
    "    else:\n",
    "        loss_result_mae = 0.5 * np.mean(np.abs(e)) #по модулю\n",
    "        return loss_result_mae"
   ]
  },
  {
   "cell_type": "code",
   "execution_count": 7,
   "id": "73ddbc6f",
   "metadata": {
    "execution": {
     "iopub.execute_input": "2023-03-19T20:12:33.591523Z",
     "iopub.status.busy": "2023-03-19T20:12:33.590469Z",
     "iopub.status.idle": "2023-03-19T20:12:33.597539Z",
     "shell.execute_reply": "2023-03-19T20:12:33.596310Z"
    },
    "papermill": {
     "duration": 0.016326,
     "end_time": "2023-03-19T20:12:33.599939",
     "exception": false,
     "start_time": "2023-03-19T20:12:33.583613",
     "status": "completed"
    },
    "tags": []
   },
   "outputs": [],
   "source": [
    "def compute_gradient(y, tx, w):\n",
    "    \"\"\"Вычислить градиент.\"\"\"\n",
    "    \n",
    "    \n",
    "    e = y - np.dot(tx, w)\n",
    "    #print(e)\n",
    "    N = np.shape(y)[0]\n",
    "    \n",
    "    # Среднеквадратическая ошибка\n",
    "    gradient_mse = (-1/N) * np.dot(tx.T, e)\n",
    "    return gradient_mse\n",
    "    \n",
    "    '''\n",
    "    # Средняя абсолютная ошибка\n",
    "    gradient_mae = (-1/N) * np.dot(tx.T, e)\n",
    "    return gradient_mae\n",
    "    '''"
   ]
  },
  {
   "cell_type": "code",
   "execution_count": 8,
   "id": "0258241b",
   "metadata": {
    "execution": {
     "iopub.execute_input": "2023-03-19T20:12:33.612230Z",
     "iopub.status.busy": "2023-03-19T20:12:33.611811Z",
     "iopub.status.idle": "2023-03-19T20:12:33.621180Z",
     "shell.execute_reply": "2023-03-19T20:12:33.619926Z"
    },
    "papermill": {
     "duration": 0.018331,
     "end_time": "2023-03-19T20:12:33.623571",
     "exception": false,
     "start_time": "2023-03-19T20:12:33.605240",
     "status": "completed"
    },
    "tags": []
   },
   "outputs": [],
   "source": [
    "def gradient_descent_m(y, tx, initial_w, max_iters, gamma, moment):\n",
    "    \"\"\"Алгоритм градиентного спуска.\"\"\"\n",
    "    \n",
    "    ws = [initial_w]\n",
    "    losses = []\n",
    "    w = initial_w\n",
    "    global_epsilon = 0.18*1e10 \n",
    "    iterat = 0\n",
    "    #1 iter\n",
    "    tv_grad = compute_gradient(y, tx, w)\n",
    "    \n",
    "    \n",
    "    for n_iter in range(0,max_iters):\n",
    "        \n",
    "        loss = compute_loss(y, tx, w)\n",
    "        grad = compute_gradient(y, tx, w)\n",
    "        tv = moment*tv_grad +(1-moment)*grad \n",
    "        w = w - gamma *tv   #обновляем веса\n",
    "        tv_grad = compute_gradient(y, tx, w)\n",
    "        # сохраняем w and loss\n",
    "        ws.append(w)\n",
    "        losses.append(loss)\n",
    "        if(abs(losses[n_iter]) <= global_epsilon):\n",
    "            iterat = n_iter\n",
    "#             break\n",
    "#         print(\"Gradient Descent({bi}/{ti}): loss={l}, w0={w0}, w1={w1}\".format(\n",
    "#                bi=n_iter, ti=max_iters - 1, l=loss, w0=w[0], w1=w[1]))\n",
    "#     print(iterat)\n",
    "    return losses, ws[iterat-1]"
   ]
  },
  {
   "cell_type": "code",
   "execution_count": 9,
   "id": "19f769d9",
   "metadata": {
    "execution": {
     "iopub.execute_input": "2023-03-19T20:12:33.636309Z",
     "iopub.status.busy": "2023-03-19T20:12:33.635882Z",
     "iopub.status.idle": "2023-03-19T20:12:46.038614Z",
     "shell.execute_reply": "2023-03-19T20:12:46.037174Z"
    },
    "papermill": {
     "duration": 12.41304,
     "end_time": "2023-03-19T20:12:46.042099",
     "exception": false,
     "start_time": "2023-03-19T20:12:33.629059",
     "status": "completed"
    },
    "tags": []
   },
   "outputs": [],
   "source": [
    "theta_0 = np.zeros((m + 1, 1))\n",
    "loss_history_moment, theta_best_moment= gradient_descent_m(y, X, theta_0,gamma=1e-10, max_iters= 100000, moment = 0.9)"
   ]
  },
  {
   "cell_type": "code",
   "execution_count": 10,
   "id": "34347a6b",
   "metadata": {
    "execution": {
     "iopub.execute_input": "2023-03-19T20:12:46.062257Z",
     "iopub.status.busy": "2023-03-19T20:12:46.061644Z",
     "iopub.status.idle": "2023-03-19T20:12:46.535475Z",
     "shell.execute_reply": "2023-03-19T20:12:46.534080Z"
    },
    "papermill": {
     "duration": 0.487162,
     "end_time": "2023-03-19T20:12:46.538124",
     "exception": false,
     "start_time": "2023-03-19T20:12:46.050962",
     "status": "completed"
    },
    "tags": []
   },
   "outputs": [
    {
     "data": {
      "image/png": "[encoded data removed]",
      "text/plain": [
       "<Figure size 640x480 with 1 Axes>"
      ]
     },
     "metadata": {},
     "output_type": "display_data"
    }
   ],
   "source": [
    "plt.plot(loss_history_moment)\n",
    "plt.xlabel('$k$')\n",
    "plt.ylabel('$L(\\\\theta^{(k)})$')\n",
    "_ = plt.title('Кривая обучения спуска с импульсом')"
   ]
  },
  {
   "cell_type": "code",
   "execution_count": 11,
   "id": "307daabd",
   "metadata": {
    "execution": {
     "iopub.execute_input": "2023-03-19T20:12:46.551667Z",
     "iopub.status.busy": "2023-03-19T20:12:46.551230Z",
     "iopub.status.idle": "2023-03-19T20:12:46.564876Z",
     "shell.execute_reply": "2023-03-19T20:12:46.563420Z"
    },
    "papermill": {
     "duration": 0.024624,
     "end_time": "2023-03-19T20:12:46.568782",
     "exception": false,
     "start_time": "2023-03-19T20:12:46.544158",
     "status": "completed"
    },
    "tags": []
   },
   "outputs": [
    {
     "data": {
      "text/plain": [
       "1154613176.6037338"
      ]
     },
     "execution_count": 11,
     "metadata": {},
     "output_type": "execute_result"
    }
   ],
   "source": [
    "compute_loss(y, X, theta_best_moment)"
   ]
  },
  {
   "cell_type": "code",
   "execution_count": 12,
   "id": "08244c50",
   "metadata": {
    "execution": {
     "iopub.execute_input": "2023-03-19T20:12:46.590570Z",
     "iopub.status.busy": "2023-03-19T20:12:46.590005Z",
     "iopub.status.idle": "2023-03-19T20:12:46.661031Z",
     "shell.execute_reply": "2023-03-19T20:12:46.659625Z"
    },
    "papermill": {
     "duration": 0.086297,
     "end_time": "2023-03-19T20:12:46.664812",
     "exception": false,
     "start_time": "2023-03-19T20:12:46.578515",
     "status": "completed"
    },
    "tags": []
   },
   "outputs": [
    {
     "data": {
      "text/html": [
       "<div>\n",
       "<style scoped>\n",
       "    .dataframe tbody tr th:only-of-type {\n",
       "        vertical-align: middle;\n",
       "    }\n",
       "\n",
       "    .dataframe tbody tr th {\n",
       "        vertical-align: top;\n",
       "    }\n",
       "\n",
       "    .dataframe thead th {\n",
       "        text-align: right;\n",
       "    }\n",
       "</style>\n",
       "<table border=\"1\" class=\"dataframe\">\n",
       "  <thead>\n",
       "    <tr style=\"text-align: right;\">\n",
       "      <th></th>\n",
       "      <th>LotArea</th>\n",
       "      <th>LotFrontage</th>\n",
       "      <th>1stFlrSF</th>\n",
       "      <th>OverallQual</th>\n",
       "      <th>GarageArea</th>\n",
       "      <th>YearBuilt</th>\n",
       "      <th>TotalBsmtSF</th>\n",
       "      <th>2ndFlrSF</th>\n",
       "    </tr>\n",
       "  </thead>\n",
       "  <tbody>\n",
       "    <tr>\n",
       "      <th>0</th>\n",
       "      <td>11622</td>\n",
       "      <td>80.0</td>\n",
       "      <td>896</td>\n",
       "      <td>5</td>\n",
       "      <td>730.0</td>\n",
       "      <td>1961</td>\n",
       "      <td>882.0</td>\n",
       "      <td>0</td>\n",
       "    </tr>\n",
       "    <tr>\n",
       "      <th>1</th>\n",
       "      <td>14267</td>\n",
       "      <td>81.0</td>\n",
       "      <td>1329</td>\n",
       "      <td>6</td>\n",
       "      <td>312.0</td>\n",
       "      <td>1958</td>\n",
       "      <td>1329.0</td>\n",
       "      <td>0</td>\n",
       "    </tr>\n",
       "    <tr>\n",
       "      <th>2</th>\n",
       "      <td>13830</td>\n",
       "      <td>74.0</td>\n",
       "      <td>928</td>\n",
       "      <td>5</td>\n",
       "      <td>482.0</td>\n",
       "      <td>1997</td>\n",
       "      <td>928.0</td>\n",
       "      <td>701</td>\n",
       "    </tr>\n",
       "    <tr>\n",
       "      <th>3</th>\n",
       "      <td>9978</td>\n",
       "      <td>78.0</td>\n",
       "      <td>926</td>\n",
       "      <td>6</td>\n",
       "      <td>470.0</td>\n",
       "      <td>1998</td>\n",
       "      <td>926.0</td>\n",
       "      <td>678</td>\n",
       "    </tr>\n",
       "    <tr>\n",
       "      <th>4</th>\n",
       "      <td>5005</td>\n",
       "      <td>43.0</td>\n",
       "      <td>1280</td>\n",
       "      <td>8</td>\n",
       "      <td>506.0</td>\n",
       "      <td>1992</td>\n",
       "      <td>1280.0</td>\n",
       "      <td>0</td>\n",
       "    </tr>\n",
       "  </tbody>\n",
       "</table>\n",
       "</div>"
      ],
      "text/plain": [
       "   LotArea  LotFrontage  1stFlrSF  OverallQual  GarageArea  YearBuilt  \\\n",
       "0    11622         80.0       896            5       730.0       1961   \n",
       "1    14267         81.0      1329            6       312.0       1958   \n",
       "2    13830         74.0       928            5       482.0       1997   \n",
       "3     9978         78.0       926            6       470.0       1998   \n",
       "4     5005         43.0      1280            8       506.0       1992   \n",
       "\n",
       "   TotalBsmtSF  2ndFlrSF  \n",
       "0        882.0         0  \n",
       "1       1329.0         0  \n",
       "2        928.0       701  \n",
       "3        926.0       678  \n",
       "4       1280.0         0  "
      ]
     },
     "execution_count": 12,
     "metadata": {},
     "output_type": "execute_result"
    }
   ],
   "source": [
    "test = pd.read_csv(\"../input/intro2ml-kpfu-1/test.csv\")\n",
    "h_testfirst= test[['Id','LotArea','LotFrontage','1stFlrSF','OverallQual','GarageArea','YearBuilt','TotalBsmtSF','2ndFlrSF']].fillna (0)\n",
    "h_test= test[['LotArea','LotFrontage','1stFlrSF','OverallQual','GarageArea','YearBuilt','TotalBsmtSF','2ndFlrSF']].fillna (0)\n",
    "h_test.head()"
   ]
  },
  {
   "cell_type": "code",
   "execution_count": 13,
   "id": "c41845d9",
   "metadata": {
    "execution": {
     "iopub.execute_input": "2023-03-19T20:12:46.684290Z",
     "iopub.status.busy": "2023-03-19T20:12:46.683219Z",
     "iopub.status.idle": "2023-03-19T20:12:46.690624Z",
     "shell.execute_reply": "2023-03-19T20:12:46.689636Z"
    },
    "papermill": {
     "duration": 0.017533,
     "end_time": "2023-03-19T20:12:46.693026",
     "exception": false,
     "start_time": "2023-03-19T20:12:46.675493",
     "status": "completed"
    },
    "tags": []
   },
   "outputs": [],
   "source": [
    "n_test = len(h_test)\n",
    "# n - количество объектов\n",
    "m_test = len(h_test.columns)\n",
    "# m - количество признаков(колонок)\n",
    "X_test = h_test.values.reshape((n_test, m_test)) #нам тестовый набор для проверки обученной модели\n",
    "X_test = np.hstack((np.ones((n_test, 1)), X_test)) #расширим матрицу признаков сложив с единичной"
   ]
  },
  {
   "cell_type": "code",
   "execution_count": 14,
   "id": "e4ac0995",
   "metadata": {
    "execution": {
     "iopub.execute_input": "2023-03-19T20:12:46.708139Z",
     "iopub.status.busy": "2023-03-19T20:12:46.707267Z",
     "iopub.status.idle": "2023-03-19T20:12:46.719818Z",
     "shell.execute_reply": "2023-03-19T20:12:46.718530Z"
    },
    "papermill": {
     "duration": 0.024053,
     "end_time": "2023-03-19T20:12:46.723560",
     "exception": false,
     "start_time": "2023-03-19T20:12:46.699507",
     "status": "completed"
    },
    "tags": []
   },
   "outputs": [
    {
     "data": {
      "text/plain": [
       "array([150151.5414486 , 179936.46352326, 185837.61910823, ...,\n",
       "       182932.78285493, 122361.2768145 , 217053.99250904])"
      ]
     },
     "execution_count": 14,
     "metadata": {},
     "output_type": "execute_result"
    }
   ],
   "source": [
    "Y_test = X_test.dot(theta_best_moment) # Предсказание на тренировочных данных \n",
    "len(Y_test)\n",
    "\n",
    "Y_test = np.array(Y_test)\n",
    "Y_test= Y_test.flatten().tolist ()\n",
    "Y_test = np.array(Y_test)\n",
    "Y_test"
   ]
  },
  {
   "cell_type": "code",
   "execution_count": 15,
   "id": "6b470115",
   "metadata": {
    "execution": {
     "iopub.execute_input": "2023-03-19T20:12:46.746241Z",
     "iopub.status.busy": "2023-03-19T20:12:46.745660Z",
     "iopub.status.idle": "2023-03-19T20:12:46.771679Z",
     "shell.execute_reply": "2023-03-19T20:12:46.770408Z"
    },
    "papermill": {
     "duration": 0.041675,
     "end_time": "2023-03-19T20:12:46.775420",
     "exception": false,
     "start_time": "2023-03-19T20:12:46.733745",
     "status": "completed"
    },
    "tags": []
   },
   "outputs": [
    {
     "data": {
      "text/html": [
       "<div>\n",
       "<style scoped>\n",
       "    .dataframe tbody tr th:only-of-type {\n",
       "        vertical-align: middle;\n",
       "    }\n",
       "\n",
       "    .dataframe tbody tr th {\n",
       "        vertical-align: top;\n",
       "    }\n",
       "\n",
       "    .dataframe thead th {\n",
       "        text-align: right;\n",
       "    }\n",
       "</style>\n",
       "<table border=\"1\" class=\"dataframe\">\n",
       "  <thead>\n",
       "    <tr style=\"text-align: right;\">\n",
       "      <th></th>\n",
       "      <th>id</th>\n",
       "      <th>SalePrice</th>\n",
       "    </tr>\n",
       "  </thead>\n",
       "  <tbody>\n",
       "    <tr>\n",
       "      <th>0</th>\n",
       "      <td>1461</td>\n",
       "      <td>150151.541449</td>\n",
       "    </tr>\n",
       "    <tr>\n",
       "      <th>1</th>\n",
       "      <td>1462</td>\n",
       "      <td>179936.463523</td>\n",
       "    </tr>\n",
       "    <tr>\n",
       "      <th>2</th>\n",
       "      <td>1463</td>\n",
       "      <td>185837.619108</td>\n",
       "    </tr>\n",
       "    <tr>\n",
       "      <th>3</th>\n",
       "      <td>1464</td>\n",
       "      <td>182212.737976</td>\n",
       "    </tr>\n",
       "    <tr>\n",
       "      <th>4</th>\n",
       "      <td>1465</td>\n",
       "      <td>179975.865732</td>\n",
       "    </tr>\n",
       "    <tr>\n",
       "      <th>...</th>\n",
       "      <td>...</td>\n",
       "      <td>...</td>\n",
       "    </tr>\n",
       "    <tr>\n",
       "      <th>1454</th>\n",
       "      <td>2915</td>\n",
       "      <td>108465.187253</td>\n",
       "    </tr>\n",
       "    <tr>\n",
       "      <th>1455</th>\n",
       "      <td>2916</td>\n",
       "      <td>121397.884054</td>\n",
       "    </tr>\n",
       "    <tr>\n",
       "      <th>1456</th>\n",
       "      <td>2917</td>\n",
       "      <td>182932.782855</td>\n",
       "    </tr>\n",
       "    <tr>\n",
       "      <th>1457</th>\n",
       "      <td>2918</td>\n",
       "      <td>122361.276815</td>\n",
       "    </tr>\n",
       "    <tr>\n",
       "      <th>1458</th>\n",
       "      <td>2919</td>\n",
       "      <td>217053.992509</td>\n",
       "    </tr>\n",
       "  </tbody>\n",
       "</table>\n",
       "<p>1459 rows × 2 columns</p>\n",
       "</div>"
      ],
      "text/plain": [
       "        id      SalePrice\n",
       "0     1461  150151.541449\n",
       "1     1462  179936.463523\n",
       "2     1463  185837.619108\n",
       "3     1464  182212.737976\n",
       "4     1465  179975.865732\n",
       "...    ...            ...\n",
       "1454  2915  108465.187253\n",
       "1455  2916  121397.884054\n",
       "1456  2917  182932.782855\n",
       "1457  2918  122361.276815\n",
       "1458  2919  217053.992509\n",
       "\n",
       "[1459 rows x 2 columns]"
      ]
     },
     "execution_count": 15,
     "metadata": {},
     "output_type": "execute_result"
    }
   ],
   "source": [
    "solution = pd.DataFrame({\"id\":h_testfirst['Id'].values, \"SalePrice\":Y_test})\n",
    "solution"
   ]
  },
  {
   "cell_type": "code",
   "execution_count": 16,
   "id": "c6da5663",
   "metadata": {
    "execution": {
     "iopub.execute_input": "2023-03-19T20:12:46.801033Z",
     "iopub.status.busy": "2023-03-19T20:12:46.800502Z",
     "iopub.status.idle": "2023-03-19T20:12:46.819923Z",
     "shell.execute_reply": "2023-03-19T20:12:46.818514Z"
    },
    "papermill": {
     "duration": 0.035268,
     "end_time": "2023-03-19T20:12:46.823468",
     "exception": false,
     "start_time": "2023-03-19T20:12:46.788200",
     "status": "completed"
    },
    "tags": []
   },
   "outputs": [],
   "source": [
    "solution.to_csv(\"submission.csv\", index = False)"
   ]
  }
 ],
 "metadata": {
  "kernelspec": {
   "display_name": "Python 3",
   "language": "python",
   "name": "python3"
  },
  "language_info": {
   "codemirror_mode": {
    "name": "ipython",
    "version": 3
   },
   "file_extension": ".py",
   "mimetype": "text/x-python",
   "name": "python",
   "nbconvert_exporter": "python",
   "pygments_lexer": "ipython3",
   "version": "3.7.12"
  },
  "papermill": {
   "default_parameters": {},
   "duration": 26.754586,
   "end_time": "2023-03-19T20:12:50.025621",
   "environment_variables": {},
   "exception": null,
   "input_path": "__notebook__.ipynb",
   "output_path": "__notebook__.ipynb",
   "parameters": {},
   "start_time": "2023-03-19T20:12:23.271035",
   "version": "2.4.0"
  }
 },
 "nbformat": 4,
 "nbformat_minor": 5
}
