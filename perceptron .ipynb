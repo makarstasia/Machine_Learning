{
  "cells": [
    {
      "cell_type": "code",
      "execution_count": 1,
      "id": "54113d9e",
      "metadata": {
        "colab": {
          "base_uri": "https://localhost:8080/"
        },
        "id": "54113d9e",
        "outputId": "12dd5ea2-6d67-46ce-dad1-d2987149e35a"
      },
      "outputs": [
        {
          "name": "stdout",
          "output_type": "stream",
          "text": [
            "Looking in indexes: https://pypi.org/simple, https://us-python.pkg.dev/colab-wheels/public/simple/\n",
            "Requirement already satisfied: numpy in /usr/local/lib/python3.10/dist-packages (1.22.4)\n",
            "Looking in indexes: https://pypi.org/simple, https://us-python.pkg.dev/colab-wheels/public/simple/\n",
            "Requirement already satisfied: scikit-learn in /usr/local/lib/python3.10/dist-packages (1.2.2)\n",
            "Requirement already satisfied: numpy>=1.17.3 in /usr/local/lib/python3.10/dist-packages (from scikit-learn) (1.22.4)\n",
            "Requirement already satisfied: scipy>=1.3.2 in /usr/local/lib/python3.10/dist-packages (from scikit-learn) (1.10.1)\n",
            "Requirement already satisfied: joblib>=1.1.1 in /usr/local/lib/python3.10/dist-packages (from scikit-learn) (1.2.0)\n",
            "Requirement already satisfied: threadpoolctl>=2.0.0 in /usr/local/lib/python3.10/dist-packages (from scikit-learn) (3.1.0)\n"
          ]
        }
      ],
      "source": [
        "!pip install numpy\n",
        "!pip install scikit-learn"
      ]
    },
    {
      "attachments": {},
      "cell_type": "markdown",
      "id": "f39adb9f",
      "metadata": {
        "id": "f39adb9f"
      },
      "source": [
        "# Install and prepare dataset"
      ]
    },
    {
      "cell_type": "code",
      "execution_count": 2,
      "id": "ba2229b7",
      "metadata": {
        "colab": {
          "base_uri": "https://localhost:8080/"
        },
        "id": "ba2229b7",
        "outputId": "02834564-4762-4294-aa00-ca37713acf67"
      },
      "outputs": [
        {
          "name": "stdout",
          "output_type": "stream",
          "text": [
            "Train: 120 | Test: 30\n"
          ]
        }
      ],
      "source": [
        "import numpy as np\n",
        "from sklearn import datasets\n",
        "\n",
        "iris = datasets.load_iris()\n",
        "num_classes = 3\n",
        "data = iris.data\n",
        "targets = np.eye(num_classes)[iris.target]\n",
        "dataset = [(data[i][None,...],targets[i]) for i in range(data.shape[0])]\n",
        "\n",
        "from sklearn.model_selection import train_test_split\n",
        "train_dataset, test_dataset = train_test_split(dataset, train_size=0.8, random_state=42)\n",
        "print(f'Train: {len(train_dataset)} | Test: {len(test_dataset)}')"
      ]
    },
    {
      "attachments": {},
      "cell_type": "markdown",
      "id": "090b4112",
      "metadata": {
        "id": "090b4112"
      },
      "source": [
        "# Model"
      ]
    },
    {
      "cell_type": "code",
      "execution_count": 3,
      "id": "5f0c6bde",
      "metadata": {
        "id": "5f0c6bde"
      },
      "outputs": [],
      "source": [
        "class NN:\n",
        "    def __init__(self, input_dim, hidden_dim,  output_dim, learning_rate=0.01):\n",
        "        self.input_dim = input_dim #количество входных\n",
        "        self.hidden_dim = hidden_dim #скрытых\n",
        "        self.output_dim = output_dim #выходных слоев\n",
        "\n",
        "        self.learning_rate = learning_rate #скорость обучения\n",
        "\n",
        "        # initialize weights 1\n",
        "        self.W1 = np.random.randn(self.input_dim, self.hidden_dim)\n",
        "        self.b1 = np.random.randn(1, self.hidden_dim)\n",
        "\n",
        "        # initialize weights 2\n",
        "        self.W2 = np.random.randn(self.hidden_dim, self.output_dim)\n",
        "        self.b2 = np.random.randn(1, self.output_dim)\n",
        "\n",
        "    def forward(self, X):\n",
        "        self.t1 = X @ self.W1 + self.b1\n",
        "        self.h1 = self.sigmoid(self.t1)\n",
        "\n",
        "        self.t2 = self.h1 @ self.W2 + self.b2\n",
        "        self.pred = self.softmax(self.t2)\n",
        "        return self.pred\n",
        "    \n",
        "\n",
        "    \n",
        "\n",
        "    def backward(self, X, target, pred):\n",
        "        \n",
        "        dE_dt2 = pred - target\n",
        "        dE_dW2 = self.h1.T @ dE_dt2\n",
        "        dE_db2 = np.sum(dE_dt2, axis=0, keepdims=True)\n",
        "\n",
        "        dE_dh1 = dE_dt2 @ self.W2.T\n",
        "        dE_dt1 = dE_dh1 * self.sigmoid_derivative(self.t1)\n",
        "        dE_dW1 = X.T @ dE_dt1\n",
        "        dE_db1 = np.sum(dE_dt1, axis=0, keepdims=True)\n",
        "\n",
        "        self.W1 -= self.learning_rate*dE_dW1\n",
        "        self.b1 -= self.learning_rate*dE_db1\n",
        "        self.W2 -= self.learning_rate*dE_dW2\n",
        "        self.b2 -= self.learning_rate*dE_db2\n",
        "\n",
        "    def relu(self, X):\n",
        "        return np.maximum(0, X)\n",
        "\n",
        "    def relu_derivative(self, X):\n",
        "        return (X>=0).astype(float)\n",
        "\n",
        "    def sigmoid(self, X):\n",
        "        return 1 / (1 + np.exp(-X))\n",
        "    \n",
        "    def sigmoid_derivative(self, X):\n",
        "        return self.sigmoid(X) * (1 - self.sigmoid(X))\n",
        "\n",
        "    def softmax(self, X):\n",
        "        out = np.exp(X)\n",
        "        return out/np.sum(out, axis=1, keepdims = True)\n",
        "\n",
        "    def cross_entropy_loss(self, target, pred):\n",
        "        return -np.sum(target*np.log(pred))"
      ]
    },
    {
      "attachments": {},
      "cell_type": "markdown",
      "id": "c5f9e139",
      "metadata": {
        "id": "c5f9e139"
      },
      "source": [
        "# Train"
      ]
    },
    {
      "cell_type": "code",
      "execution_count": 15,
      "id": "607a3578",
      "metadata": {
        "colab": {
          "base_uri": "https://localhost:8080/"
        },
        "id": "607a3578",
        "outputId": "18d81337-91d2-4a55-8639-acf27c280c9f"
      },
      "outputs": [
        {
          "name": "stdout",
          "output_type": "stream",
          "text": [
            "Epoch: 0 | Error: 6.57416607328773\n",
            "Epoch: 10 | Error: 2.7497496842206917\n",
            "Epoch: 20 | Error: 2.316581328607222\n",
            "Epoch: 30 | Error: 2.1394390911899843\n",
            "Epoch: 40 | Error: 2.053006533081297\n",
            "Epoch: 50 | Error: 2.002698146682684\n",
            "Epoch: 60 | Error: 1.9675744292919148\n",
            "Epoch: 70 | Error: 1.9317387952791882\n",
            "Epoch: 80 | Error: 1.7514601776232763\n",
            "Epoch: 90 | Error: 1.4737669867737728\n",
            "Epoch: 100 | Error: 1.2139654962907513\n",
            "Accuracy Train: 96.67%\n",
            "Accuracy Test: 100.0%\n"
          ]
        }
      ],
      "source": [
        "np.random.seed(42)\n",
        "model = NN(4, 5, 3)\n",
        "num_epoch = 101\n",
        "\n",
        "batch_size = 4\n",
        "for epoch in range(num_epoch):\n",
        "    loss_train = []\n",
        "    for i in range(len(train_dataset)//batch_size):\n",
        "      x_batch , y_batch = zip(*train_dataset[i*batch_size : i*batch_size + batch_size])\n",
        "      X = np.concatenate(x_batch, axis = 0)\n",
        "      target = np.array(y_batch)\n",
        "      pred = model.forward(X)\n",
        "      model.backward(X,target,pred)\n",
        "      E = model.cross_entropy_loss(target, pred)\n",
        "      loss_train.append(E)\n",
        "    if epoch%10==0:\n",
        "        print(f'Epoch: {epoch} | Error: {np.mean(loss_train)}')\n",
        "\n",
        "def get_accuracy(dataset, model):\n",
        "    acc = 0\n",
        "    for X, target in dataset:\n",
        "        pred = model.forward(X)\n",
        "        if np.argmax(pred)==np.argmax(target):\n",
        "            acc += 1\n",
        "    return acc\n",
        "\n",
        "acc_train = get_accuracy(train_dataset, model)\n",
        "print(f'Accuracy Train: {np.round(acc_train/len(train_dataset)*100,2)}%')\n",
        "\n",
        "acc_test = get_accuracy(test_dataset, model)\n",
        "print(f'Accuracy Test: {np.round(acc_test/len(test_dataset)*100,2)}%')"
      ]
    },
    {
      "attachments": {},
      "cell_type": "markdown",
      "id": "c2e3bd92",
      "metadata": {
        "id": "c2e3bd92"
      },
      "source": [
        "1) Добавить еще один скрытый слой (реализовать трехслойный персептрон)\n",
        "2) Улучшить качество модели путем подбора параметров сети (num_epochs, learning_rate, hidden dims and number of hidden layers). Построить графики ошибки обучения для 5-10 различных вариантов. Также попробуйте заменить функцию активации relu в скрытом слое на другие..."
      ]
    },
    {
      "attachments": {},
      "cell_type": "markdown",
      "id": "7fw0_snbt7WZ",
      "metadata": {
        "id": "7fw0_snbt7WZ"
      },
      "source": [
        "персептрон"
      ]
    },
    {
      "cell_type": "code",
      "execution_count": 16,
      "id": "6inGwvxwt685",
      "metadata": {
        "id": "6inGwvxwt685"
      },
      "outputs": [],
      "source": [
        "class Perseptron:\n",
        "    def __init__(self, input_dim, hidden_dim1, hidden_dim2, output_dim, learning_rate=0.01):\n",
        "        self.input_dim = input_dim #количество входных\n",
        "        self.hidden_dim1 = hidden_dim1 #скрытых 1 го\n",
        "        self.hidden_dim2 = hidden_dim2 #скрытых 2 го\n",
        "        self.output_dim = output_dim #выходных слоев\n",
        "\n",
        "        self.learning_rate = learning_rate #скорость обучения\n",
        "\n",
        "        # initialize weights 1\n",
        "        self.W1 = np.random.randn(self.input_dim, self.hidden_dim1)\n",
        "        self.b1 = np.random.randn(1, self.hidden_dim1)\n",
        "\n",
        "        # initialize weights 2\n",
        "        self.W2 = np.random.randn(self.hidden_dim1, self.hidden_dim2)\n",
        "        self.b2 = np.random.randn(1, self.hidden_dim2)\n",
        "\n",
        "        # initialize weights 3\n",
        "        self.W3 = np.random.randn(self.hidden_dim2, self.output_dim)\n",
        "        self.b3 = np.random.randn(1, self.output_dim)\n",
        "\n",
        "    def forward(self, X):\n",
        "        self.t1 = X @ self.W1 + self.b1\n",
        "        self.h1 = self.relu(self.t1)\n",
        "\n",
        "        self.t2 = self.h1 @ self.W2 + self.b2\n",
        "        self.h2 = self.relu(self.t2)\n",
        "\n",
        "        self.t3 = self.h2 @ self.W3 + self.b3\n",
        "        self.pred = self.softmax(self.t3)\n",
        "        return self.pred\n",
        "    \n",
        "\n",
        "    \n",
        "\n",
        "    def backward(self, X, target, pred):\n",
        "        dE_dt3 = pred - target\n",
        "        dE_dW3 = self.h2.T @ dE_dt3\n",
        "        dE_db3 = dE_dt3\n",
        "\n",
        "        dE_dh2 = dE_dt3 @ self.W3.T\n",
        "        dE_dt2 = dE_dh2 * self.relu_derivative(self.t2)\n",
        "        dE_dW2 = self.h1.T @ dE_dt2\n",
        "        dE_db2 = dE_dt2\n",
        "\n",
        "        dE_dh1 = dE_dt2 @ self.W2.T\n",
        "        dE_dt1 = dE_dh1 * self.relu_derivative(self.t1)\n",
        "        dE_dW1 = X.T @ dE_dt1\n",
        "        dE_db1 = dE_dt1\n",
        "\n",
        "        self.W1 -= self.learning_rate*dE_dW1\n",
        "        self.b1 -= self.learning_rate*dE_db1\n",
        "        self.W2 -= self.learning_rate*dE_dW2\n",
        "        self.b2 -= self.learning_rate*dE_db2\n",
        "        self.W3 -= self.learning_rate*dE_dW3\n",
        "        self.b3 -= self.learning_rate*dE_db3\n",
        "\n",
        "    def relu(self, X):\n",
        "        return np.maximum(0, X)\n",
        "\n",
        "    def relu_derivative(self, X):\n",
        "        return (X>=0).astype(float)\n",
        "\n",
        "    def softmax(self, X):\n",
        "        out = np.exp(X)\n",
        "        return out/np.sum(out)\n",
        "\n",
        "    def cross_entropy_loss(self, target, pred):\n",
        "        return -np.sum(target*np.log(pred))"
      ]
    },
    {
      "cell_type": "code",
      "execution_count": 17,
      "id": "FFiv47pMBmer",
      "metadata": {
        "colab": {
          "base_uri": "https://localhost:8080/"
        },
        "id": "FFiv47pMBmer",
        "outputId": "e89ef918-a02b-4aba-a855-239abfd5bbb3"
      },
      "outputs": [
        {
          "name": "stdout",
          "output_type": "stream",
          "text": [
            "Epoch: 0 | Error: 5.394783625380764\n",
            "Epoch: 10 | Error: 0.8634206084874531\n",
            "Epoch: 20 | Error: 0.604380239642605\n",
            "Epoch: 30 | Error: 0.46192564963726407\n",
            "Epoch: 40 | Error: 0.34177389913401574\n",
            "Epoch: 50 | Error: 0.24570198078007063\n",
            "Epoch: 60 | Error: 0.17773675608657874\n",
            "Epoch: 70 | Error: 0.13551886880241035\n",
            "Epoch: 80 | Error: 0.11394956299964513\n",
            "Epoch: 90 | Error: 0.10192094814373488\n",
            "Epoch: 100 | Error: 0.09430929476744847\n",
            "Epoch: 110 | Error: 0.08940222949779247\n",
            "Epoch: 120 | Error: 0.08604324176739403\n",
            "Epoch: 130 | Error: 0.08366160436138204\n",
            "Epoch: 140 | Error: 0.08208292864506547\n",
            "Epoch: 150 | Error: 0.08093961708451483\n",
            "Epoch: 160 | Error: 0.07989882700719081\n",
            "Epoch: 170 | Error: 0.07918585781256159\n",
            "Epoch: 180 | Error: 0.07880213540551256\n",
            "Epoch: 190 | Error: 0.07833485319861397\n",
            "Epoch: 200 | Error: 0.07784279150330073\n",
            "Epoch: 210 | Error: 0.07731652696629669\n",
            "Epoch: 220 | Error: 0.07681285831662873\n",
            "Epoch: 230 | Error: 0.07662998482918436\n",
            "Epoch: 240 | Error: 0.07637609115273598\n",
            "Epoch: 250 | Error: 0.07595168151569484\n",
            "Epoch: 260 | Error: 0.07547292901761632\n",
            "Epoch: 270 | Error: 0.07499494916495263\n",
            "Epoch: 280 | Error: 0.07402943532057758\n",
            "Epoch: 290 | Error: 0.07546788295197059\n",
            "Epoch: 300 | Error: 0.07446407928619436\n",
            "Epoch: 310 | Error: 0.07482934301848557\n",
            "Epoch: 320 | Error: 0.07466825361746564\n",
            "Epoch: 330 | Error: 0.07378633114180573\n",
            "Epoch: 340 | Error: 0.07513477570120984\n",
            "Epoch: 350 | Error: 0.0734408849735412\n",
            "Epoch: 360 | Error: 0.07416870914035112\n",
            "Epoch: 370 | Error: 0.0742472095521256\n",
            "Epoch: 380 | Error: 0.07410242756806672\n",
            "Epoch: 390 | Error: 0.07381459528106064\n",
            "Epoch: 400 | Error: 0.07284809045245713\n",
            "Epoch: 410 | Error: 0.07199082345007178\n",
            "Epoch: 420 | Error: 0.07306536141798986\n",
            "Epoch: 430 | Error: 0.07164553796432788\n",
            "Epoch: 440 | Error: 0.0728228478774756\n",
            "Epoch: 450 | Error: 0.07094996810781148\n",
            "Epoch: 460 | Error: 0.07139989707919935\n",
            "Epoch: 470 | Error: 0.07215152330196291\n",
            "Epoch: 480 | Error: 0.07259105353161817\n",
            "Epoch: 490 | Error: 0.06997427680251422\n",
            "Epoch: 500 | Error: 0.06987028007465818\n",
            "Epoch: 510 | Error: 0.07015073245212929\n",
            "Epoch: 520 | Error: 0.06995560367266711\n",
            "Epoch: 530 | Error: 0.06967562214312303\n",
            "Epoch: 540 | Error: 0.06938066011835868\n",
            "Epoch: 550 | Error: 0.0690997226574157\n",
            "Epoch: 560 | Error: 0.06882159015093836\n",
            "Epoch: 570 | Error: 0.06855700031432134\n",
            "Epoch: 580 | Error: 0.06830083162621377\n",
            "Epoch: 590 | Error: 0.06804840898944184\n",
            "Epoch: 600 | Error: 0.06780498564856469\n",
            "Epoch: 610 | Error: 0.06757074139487299\n",
            "Epoch: 620 | Error: 0.06735662846385161\n",
            "Epoch: 630 | Error: 0.06713824182851118\n",
            "Epoch: 640 | Error: 0.06692490983090846\n",
            "Epoch: 650 | Error: 0.0667175855952604\n",
            "Epoch: 660 | Error: 0.06651618524249833\n",
            "Epoch: 670 | Error: 0.06632053777617361\n",
            "Epoch: 680 | Error: 0.0661395228346881\n",
            "Epoch: 690 | Error: 0.06595851587788612\n",
            "Epoch: 700 | Error: 0.06566734097239606\n",
            "Epoch: 710 | Error: 0.06525864327046847\n",
            "Epoch: 720 | Error: 0.06508207178381892\n",
            "Epoch: 730 | Error: 0.06492131754544707\n",
            "Epoch: 740 | Error: 0.06438637417881866\n",
            "Epoch: 750 | Error: 0.0642050909152592\n",
            "Epoch: 760 | Error: 0.06740754578694569\n",
            "Epoch: 770 | Error: 0.06678387998557236\n",
            "Epoch: 780 | Error: 0.06662196157354709\n",
            "Epoch: 790 | Error: 0.06649606739496615\n",
            "Accuracy Train: 98.33%\n",
            "Accuracy Test: 96.67%\n"
          ]
        }
      ],
      "source": [
        "np.random.seed(46)\n",
        "model_Perseptron = Perseptron(4, 7, 7, 3, learning_rate=0.001 )\n",
        "num_epoch = 800\n",
        "\n",
        "for epoch in range(num_epoch):\n",
        "    loss_train = []\n",
        "    for X, target in train_dataset:\n",
        "        pred = model_Perseptron.forward(X)\n",
        "        model_Perseptron.backward(X,target,pred)\n",
        "        E = model_Perseptron.cross_entropy_loss(target, pred)\n",
        "        loss_train.append(E)\n",
        "    if epoch%10==0:\n",
        "        print(f'Epoch: {epoch} | Error: {np.mean(loss_train)}')\n",
        "\n",
        "\n",
        "def get_accuracy(dataset, model):\n",
        "    acc = 0\n",
        "    for X, target in dataset:\n",
        "        pred = model.forward(X)\n",
        "        if np.argmax(pred)==np.argmax(target):\n",
        "            acc += 1\n",
        "    return acc\n",
        "\n",
        "acc_train_Perseptron = get_accuracy(train_dataset, model_Perseptron)\n",
        "print(f'Accuracy Train: {np.round(acc_train_Perseptron/len(train_dataset)*100,2)}%')\n",
        "\n",
        "acc_test_Perseptron = get_accuracy(test_dataset, model_Perseptron)\n",
        "print(f'Accuracy Test: {np.round(acc_test_Perseptron/len(test_dataset)*100,2)}%')"
      ]
    },
    {
      "cell_type": "code",
      "execution_count": null,
      "id": "4yMVnwCRi83L",
      "metadata": {
        "id": "4yMVnwCRi83L"
      },
      "outputs": [],
      "source": []
    },
    {
      "cell_type": "code",
      "execution_count": 39,
      "id": "8iDW7_DkfauX",
      "metadata": {
        "colab": {
          "base_uri": "https://localhost:8080/",
          "height": 564
        },
        "id": "8iDW7_DkfauX",
        "outputId": "b639ac21-c20a-48c5-c14a-37241553fb66"
      },
      "outputs": [
        {
          "data": {
            "image/png": "[encoded data removed]",
            "text/plain": [
              "<Figure size 1000x600 with 1 Axes>"
            ]
          },
          "metadata": {},
          "output_type": "display_data"
        }
      ],
      "source": [
        "\n",
        "np.random.seed(48)\n",
        "\n",
        "# Вариант 1\n",
        "model_Perseptron_1 = Perseptron(4, 7, 7, 3, learning_rate=0.001)\n",
        "num_epoch = 100\n",
        "\n",
        "loss_train_1 = []\n",
        "for epoch in range(num_epoch):\n",
        "    loss_epoch = 0\n",
        "    count = 0\n",
        "    for X, target in train_dataset:\n",
        "        pred = model_Perseptron_1.forward(X)\n",
        "        model_Perseptron_1.backward(X, target, pred)\n",
        "        E = model_Perseptron_1.cross_entropy_loss(target, pred)\n",
        "        loss_epoch += E\n",
        "        count += 1\n",
        "    loss_train_1.append(loss_epoch / count)\n",
        "\n",
        "# Вариант 2\n",
        "model_Perseptron_2 = NN(4, 5, 3, learning_rate=0.001)\n",
        "num_epoch = 100\n",
        "\n",
        "loss_train_2 = []\n",
        "for epoch in range(num_epoch):\n",
        "    loss_epoch = 0\n",
        "    count = 0\n",
        "    for X, target in train_dataset:\n",
        "        pred = model_Perseptron_2.forward(X)\n",
        "        model_Perseptron_2.backward(X, target, pred)\n",
        "        E = model_Perseptron_2.cross_entropy_loss(target, pred)\n",
        "        loss_epoch += E\n",
        "        count += 1\n",
        "    loss_train_2.append(loss_epoch / count)\n",
        "\n",
        "\n",
        "# Вариант 3\n",
        "model_Perseptron_3 = NN(4, 5, 3, learning_rate=0.01)\n",
        "num_epoch = 100\n",
        "\n",
        "loss_train_3 = []\n",
        "for epoch in range(num_epoch):\n",
        "    loss_epoch = 0\n",
        "    count = 0\n",
        "    for X, target in train_dataset:\n",
        "        pred = model_Perseptron_3.forward(X)\n",
        "        model_Perseptron_3.backward(X, target, pred)\n",
        "        E = model_Perseptron_3.cross_entropy_loss(target, pred)\n",
        "        loss_epoch += E\n",
        "        count += 1\n",
        "    loss_train_3.append(loss_epoch / count)\n",
        "\n",
        "# Вариант 4\n",
        "model_Perseptron_4 = Perseptron(4, 6, 6, 3, learning_rate=0.001)\n",
        "num_epoch = 100\n",
        "\n",
        "loss_train_4 = []\n",
        "for epoch in range(num_epoch):\n",
        "    loss_epoch = 0\n",
        "    count = 0\n",
        "    for X, target in train_dataset:\n",
        "        pred = model_Perseptron_4.forward(X)\n",
        "        model_Perseptron_4.backward(X, target, pred)\n",
        "        E = model_Perseptron_4.cross_entropy_loss(target, pred)\n",
        "        loss_epoch += E\n",
        "        count += 1\n",
        "    loss_train_4.append(loss_epoch / count)\n",
        "\n",
        "# Вариант 5\n",
        "model_Perseptron_5 = Perseptron(4, 7, 10, 3, learning_rate=0.001)\n",
        "num_epoch = 100\n",
        "\n",
        "loss_train_5 = []\n",
        "for epoch in range(num_epoch):\n",
        "    loss_epoch = 0\n",
        "    count = 0\n",
        "    for X, target in train_dataset:\n",
        "        pred = model_Perseptron_5.forward(X)\n",
        "        model_Perseptron_5.backward(X, target, pred)\n",
        "        E = model_Perseptron_5.cross_entropy_loss(target, pred)\n",
        "        loss_epoch += E\n",
        "        count += 1\n",
        "    loss_train_5.append(loss_epoch / count)\n",
        "\n",
        "\n",
        "\n",
        "# Построение графиков\n",
        "plt.figure(figsize=(10, 6))\n",
        "plt.plot(loss_train_1, label='Вариант 1')\n",
        "plt.plot(loss_train_2, label='Вариант 2')\n",
        "plt.plot(loss_train_3, label='Вариант 3')\n",
        "plt.plot(loss_train_4, label='Вариант 4')\n",
        "plt.plot(loss_train_5, label='Вариант 5')\n",
        "plt.xlabel('Epoch')\n",
        "plt.ylabel('Loss')\n",
        "plt.title('Training Loss')\n",
        "plt.legend()\n",
        "plt.show()\n"
      ]
    }
  ],
  "metadata": {
    "colab": {
      "provenance": []
    },
    "kernelspec": {
      "display_name": "Python 3 (ipykernel)",
      "language": "python",
      "name": "python3"
    },
    "language_info": {
      "codemirror_mode": {
        "name": "ipython",
        "version": 3
      },
      "file_extension": ".py",
      "mimetype": "text/x-python",
      "name": "python",
      "nbconvert_exporter": "python",
      "pygments_lexer": "ipython3",
      "version": "3.9.13"
    },
    "toc": {
      "base_numbering": 1,
      "nav_menu": {},
      "number_sections": true,
      "sideBar": true,
      "skip_h1_title": false,
      "title_cell": "Table of Contents",
      "title_sidebar": "Contents",
      "toc_cell": false,
      "toc_position": {},
      "toc_section_display": true,
      "toc_window_display": false
    },
    "varInspector": {
      "cols": {
        "lenName": 16,
        "lenType": 16,
        "lenVar": 40
      },
      "kernels_config": {
        "python": {
          "delete_cmd_postfix": "",
          "delete_cmd_prefix": "del ",
          "library": "var_list.py",
          "varRefreshCmd": "print(var_dic_list())"
        },
        "r": {
          "delete_cmd_postfix": ") ",
          "delete_cmd_prefix": "rm(",
          "library": "var_list.r",
          "varRefreshCmd": "cat(var_dic_list()) "
        }
      },
      "types_to_exclude": [
        "module",
        "function",
        "builtin_function_or_method",
        "instance",
        "_Feature"
      ],
      "window_display": false
    }
  },
  "nbformat": 4,
  "nbformat_minor": 5
}
