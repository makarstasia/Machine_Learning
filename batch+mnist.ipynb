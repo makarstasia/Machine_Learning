{
  "cells": [
    {
      "cell_type": "code",
      "execution_count": null,
      "id": "3d7c68b4",
      "metadata": {
        "ExecuteTime": {
          "end_time": "2023-04-30T15:22:06.708026Z",
          "start_time": "2023-04-30T15:22:06.706040Z"
        },
        "colab": {
          "base_uri": "https://localhost:8080/"
        },
        "id": "3d7c68b4",
        "outputId": "cf15d493-efb9-435f-aadb-75de4f43d6f2"
      },
      "outputs": [
        {
          "output_type": "stream",
          "name": "stdout",
          "text": [
            "Looking in indexes: https://pypi.org/simple, https://us-python.pkg.dev/colab-wheels/public/simple/\n",
            "Requirement already satisfied: numpy in /usr/local/lib/python3.10/dist-packages (1.22.4)\n",
            "Looking in indexes: https://pypi.org/simple, https://us-python.pkg.dev/colab-wheels/public/simple/\n",
            "Requirement already satisfied: scikit-learn in /usr/local/lib/python3.10/dist-packages (1.2.2)\n",
            "Requirement already satisfied: numpy>=1.17.3 in /usr/local/lib/python3.10/dist-packages (from scikit-learn) (1.22.4)\n",
            "Requirement already satisfied: scipy>=1.3.2 in /usr/local/lib/python3.10/dist-packages (from scikit-learn) (1.10.1)\n",
            "Requirement already satisfied: joblib>=1.1.1 in /usr/local/lib/python3.10/dist-packages (from scikit-learn) (1.2.0)\n",
            "Requirement already satisfied: threadpoolctl>=2.0.0 in /usr/local/lib/python3.10/dist-packages (from scikit-learn) (3.1.0)\n"
          ]
        }
      ],
      "source": [
        "%pip install numpy\n",
        "%pip install scikit-learn"
      ]
    },
    {
      "cell_type": "markdown",
      "id": "9b021c26",
      "metadata": {
        "id": "9b021c26"
      },
      "source": [
        "# Install and prepare dataset"
      ]
    },
    {
      "cell_type": "code",
      "execution_count": null,
      "id": "ba2229b7",
      "metadata": {
        "ExecuteTime": {
          "end_time": "2023-05-11T08:39:58.281969738Z",
          "start_time": "2023-05-11T08:39:57.840344463Z"
        },
        "colab": {
          "base_uri": "https://localhost:8080/"
        },
        "id": "ba2229b7",
        "outputId": "8ed527f9-9166-4046-f112-cf3e502c6e89"
      },
      "outputs": [
        {
          "output_type": "stream",
          "name": "stdout",
          "text": [
            "Train: 120 | Test: 30\n"
          ]
        }
      ],
      "source": [
        "import numpy as np\n",
        "from sklearn import datasets\n",
        "iris = datasets.load_iris()\n",
        "num_classes = 3\n",
        "data = iris.data\n",
        "targets = np.eye(num_classes)[iris.target]\n",
        "dataset = [(data[i][None,...],targets[i]) for i in range(data.shape[0])]\n",
        "\n",
        "from sklearn.model_selection import train_test_split\n",
        "train_dataset, test_dataset = train_test_split(dataset, train_size=0.8, random_state=42)\n",
        "print(f'Train: {len(train_dataset)} | Test: {len(test_dataset)}')"
      ]
    },
    {
      "cell_type": "code",
      "execution_count": null,
      "id": "a7112aa7",
      "metadata": {
        "ExecuteTime": {
          "end_time": "2023-05-11T08:40:11.885136010Z",
          "start_time": "2023-05-11T08:40:11.880176010Z"
        },
        "id": "a7112aa7"
      },
      "outputs": [],
      "source": [
        "class NN:\n",
        "    def __init__(self, input_dim, hidden_dim, output_dim, learning_rate = 0.01):\n",
        "        self.input_dim = input_dim\n",
        "        self.hidden_dim = hidden_dim\n",
        "        self.output_dim = output_dim\n",
        "\n",
        "        self.learning_rate = learning_rate\n",
        "        # initialize weights 1\n",
        "        self.W1 = np.random.randn(self.input_dim, self.hidden_dim)\n",
        "        self.b1 = np.random.randn(1, self.hidden_dim)\n",
        "\n",
        "        # initialize weights 2\n",
        "        self.W2 = np.random.randn(self.hidden_dim, self.output_dim)\n",
        "        self.b2 = np.random.randn(1, self.output_dim)\n",
        "\n",
        "    def forward(self, X):\n",
        "        self.t1 = X @ self.W1 + self.b1\n",
        "        self.h1 = self.relu(self.t1)\n",
        "\n",
        "        self.t2 = self.h1 @ self.W2 + self.b2\n",
        "        self.pred = self.softmax(self.t2)\n",
        "        return self.pred\n",
        "\n",
        "    def backward(self, X, target, pred):\n",
        "        \n",
        "        dE_dt2 = pred - target\n",
        "        dE_dW2 = self.h1.T @ dE_dt2\n",
        "        dE_db2 = np.sum(dE_dt2, axis=0, keepdims=True)\n",
        "\n",
        "        dE_dh1 = dE_dt2 @ self.W2.T\n",
        "        dE_dt1 = dE_dh1 * self.relu_derivative(self.t1)\n",
        "        dE_dW1 = X.T @ dE_dt1\n",
        "        dE_db1 = np.sum(dE_dt1, axis=0, keepdims=True)\n",
        "\n",
        "        self.W1 -= self.learning_rate*dE_dW1\n",
        "        self.b1 -= self.learning_rate*dE_db1\n",
        "        self.W2 -= self.learning_rate*dE_dW2\n",
        "        self.b2 -= self.learning_rate*dE_db2\n",
        "\n",
        "\n",
        "    def cross_entropy_loss(self, target, pred):\n",
        "        return -np.sum(target*np.log(pred))\n",
        "\n",
        "    def relu(self, t1):\n",
        "        return np.maximum(0, t1)\n",
        "\n",
        "    def softmax(self, X):\n",
        "        out = np.exp(X)\n",
        "        return out/np.sum(out, axis=1, keepdims=True)\n",
        "\n",
        "    def relu_derivative(self, X):\n",
        "        return (X>=0).astype(float)"
      ]
    },
    {
      "cell_type": "markdown",
      "id": "4ce35b69",
      "metadata": {
        "id": "4ce35b69"
      },
      "source": [
        "# Train with batch"
      ]
    },
    {
      "cell_type": "code",
      "execution_count": null,
      "id": "3233aaa3",
      "metadata": {
        "ExecuteTime": {
          "end_time": "2023-05-11T08:40:22.640940340Z",
          "start_time": "2023-05-11T08:40:22.635616598Z"
        },
        "id": "3233aaa3"
      },
      "outputs": [],
      "source": [
        "np.random.shuffle(train_dataset)"
      ]
    },
    {
      "cell_type": "code",
      "execution_count": null,
      "id": "35ee2e65",
      "metadata": {
        "ExecuteTime": {
          "end_time": "2023-05-11T08:40:23.126012143Z",
          "start_time": "2023-05-11T08:40:22.973191648Z"
        },
        "colab": {
          "base_uri": "https://localhost:8080/"
        },
        "id": "35ee2e65",
        "outputId": "af19e35e-aa33-47da-f527-c5008b1d4d02"
      },
      "outputs": [
        {
          "output_type": "stream",
          "name": "stdout",
          "text": [
            "Epoch: 0 | Error: 5.341233427747144\n",
            "Epoch: 10 | Error: 1.2007186650514567\n",
            "Epoch: 20 | Error: 0.7154426326163027\n",
            "Epoch: 30 | Error: 0.6396737055946262\n",
            "Epoch: 40 | Error: 0.5731940106308187\n",
            "Epoch: 50 | Error: 0.5459609044385727\n",
            "Epoch: 60 | Error: 0.5094902084562586\n",
            "Epoch: 70 | Error: 0.5032012024314131\n",
            "Epoch: 80 | Error: 0.4874380732563581\n",
            "Epoch: 90 | Error: 0.476929993538312\n",
            "Epoch: 100 | Error: 0.46349207883768445\n",
            "Accuracy Train: 96.67%\n",
            "Accuracy Test: 96.67%\n"
          ]
        }
      ],
      "source": [
        "np.random.seed(42)\n",
        "model = NN(4, 5, 3)\n",
        "batch_size = 4\n",
        "num_epoch = 101\n",
        "\n",
        "for epoch in range(num_epoch):\n",
        "    loss_train = []\n",
        "    for i in range(len(train_dataset)//batch_size):\n",
        "        batch_x, batch_y = zip(*train_dataset[i*batch_size:i*batch_size+batch_size])\n",
        "        X = np.concatenate(batch_x,axis=0)\n",
        "        target = np.array(batch_y)\n",
        "        pred = model.forward(X)\n",
        "        model.backward(X,target,pred)\n",
        "        E = model.cross_entropy_loss(target, pred)\n",
        "        loss_train.append(E)\n",
        "    if epoch%10==0:\n",
        "        print(f'Epoch: {epoch} | Error: {np.mean(loss_train)}')\n",
        "\n",
        "def get_accuracy(dataset, model):\n",
        "    acc = 0\n",
        "    for X, target in dataset:\n",
        "        pred = model.forward(X)\n",
        "        if np.argmax(pred)==np.argmax(target):\n",
        "            acc += 1\n",
        "    return acc\n",
        "\n",
        "acc_train = get_accuracy(train_dataset, model)\n",
        "print(f'Accuracy Train: {np.round(acc_train/len(train_dataset)*100,2)}%')\n",
        "\n",
        "acc_test = get_accuracy(test_dataset, model)\n",
        "print(f'Accuracy Test: {np.round(acc_test/len(test_dataset)*100,2)}%')"
      ]
    },
    {
      "cell_type": "code",
      "source": [
        "import numpy as np\n",
        "import matplotlib.pyplot as plt\n",
        "import time\n",
        "\n",
        "# Задаем случайное начальное значение для воспроизводимости результатов\n",
        "np.random.seed(42)\n",
        "\n",
        "# Определяем список размеров батчей для тестирования\n",
        "batch_sizes = [2, 4, 8, 16, 32]\n",
        "\n",
        "# Инициализируем списки для хранения точности и времени обучения\n",
        "accuracies = []\n",
        "training_times = []\n",
        "\n",
        "for batch_size in batch_sizes:\n",
        "    # Создаем новый экземпляр модели для каждого размера батча\n",
        "    model = NN(4, 5, 3)\n",
        "\n",
        "    num_epoch = 101\n",
        "    loss_train = []\n",
        "\n",
        "    # Запускаем таймер\n",
        "    start_time = time.time()\n",
        "\n",
        "    for epoch in range(num_epoch):\n",
        "        for i in range(len(train_dataset)//batch_size):\n",
        "            batch_x, batch_y = zip(*train_dataset[i*batch_size:i*batch_size+batch_size])\n",
        "            X = np.concatenate(batch_x, axis=0)\n",
        "            target = np.array(batch_y)\n",
        "            pred = model.forward(X)\n",
        "            model.backward(X, target, pred)\n",
        "            E = model.cross_entropy_loss(target, pred)\n",
        "            loss_train.append(E)\n",
        "\n",
        "    # Рассчитываем время обучения\n",
        "    end_time = time.time()\n",
        "    training_time = end_time - start_time\n",
        "\n",
        "    # Рассчитываем и сохраняем точность\n",
        "    acc_train = get_accuracy(train_dataset, model)\n",
        "    accuracies.append(acc_train/len(train_dataset)*100)\n",
        "\n",
        "    # Сохраняем время обучения\n",
        "    training_times.append(training_time)\n",
        "\n",
        "# Строим графики зависимости точности и времени обучения от размера батча\n",
        "plt.figure(figsize=(10, 5))\n",
        "plt.subplot(1, 2, 1)\n",
        "plt.plot(batch_sizes, accuracies, marker='o')\n",
        "plt.xlabel('Размер батча')\n",
        "plt.ylabel('Точность (%)')\n",
        "plt.title('Точность от размера батча')\n",
        "\n",
        "plt.subplot(1, 2, 2)\n",
        "plt.plot(batch_sizes, training_times, marker='o')\n",
        "plt.xlabel('Размер батча')\n",
        "plt.ylabel('Время обучения (с)')\n",
        "plt.title('Время обучения от размера батча')\n",
        "\n",
        "plt.tight_layout()\n",
        "plt.show()\n"
      ],
      "metadata": {
        "colab": {
          "base_uri": "https://localhost:8080/",
          "height": 508
        },
        "id": "-uyf0dxmezg6",
        "outputId": "10845ed4-407b-41d7-e1ab-fe4cf342159b"
      },
      "id": "-uyf0dxmezg6",
      "execution_count": null,
      "outputs": [
        {
          "output_type": "display_data",
          "data": {
            "text/plain": [
              "<Figure size 1000x500 with 2 Axes>"
            ],
            "image/png": "[encoded data removed]"
          },
          "metadata": {}
        }
      ]
    },
    {
      "cell_type": "markdown",
      "id": "fca8055b",
      "metadata": {
        "id": "fca8055b"
      },
      "source": [
        "# Install MNIST dataset"
      ]
    },
    {
      "cell_type": "code",
      "execution_count": null,
      "id": "7d6cab77",
      "metadata": {
        "colab": {
          "base_uri": "https://localhost:8080/"
        },
        "id": "7d6cab77",
        "outputId": "65c6fc82-3f29-453b-e38c-9742d58bf8f6"
      },
      "outputs": [
        {
          "output_type": "stream",
          "name": "stdout",
          "text": [
            "Looking in indexes: https://download.pytorch.org/whl/cpu, https://us-python.pkg.dev/colab-wheels/public/simple/\n",
            "Requirement already satisfied: torch in /usr/local/lib/python3.10/dist-packages (2.0.1+cu118)\n",
            "Requirement already satisfied: torchvision in /usr/local/lib/python3.10/dist-packages (0.15.2+cu118)\n",
            "Requirement already satisfied: torchaudio in /usr/local/lib/python3.10/dist-packages (2.0.2+cu118)\n",
            "Requirement already satisfied: filelock in /usr/local/lib/python3.10/dist-packages (from torch) (3.12.0)\n",
            "Requirement already satisfied: typing-extensions in /usr/local/lib/python3.10/dist-packages (from torch) (4.5.0)\n",
            "Requirement already satisfied: sympy in /usr/local/lib/python3.10/dist-packages (from torch) (1.11.1)\n",
            "Requirement already satisfied: networkx in /usr/local/lib/python3.10/dist-packages (from torch) (3.1)\n",
            "Requirement already satisfied: jinja2 in /usr/local/lib/python3.10/dist-packages (from torch) (3.1.2)\n",
            "Requirement already satisfied: triton==2.0.0 in /usr/local/lib/python3.10/dist-packages (from torch) (2.0.0)\n",
            "Requirement already satisfied: cmake in /usr/local/lib/python3.10/dist-packages (from triton==2.0.0->torch) (3.25.2)\n",
            "Requirement already satisfied: lit in /usr/local/lib/python3.10/dist-packages (from triton==2.0.0->torch) (16.0.5)\n",
            "Requirement already satisfied: numpy in /usr/local/lib/python3.10/dist-packages (from torchvision) (1.22.4)\n",
            "Requirement already satisfied: requests in /usr/local/lib/python3.10/dist-packages (from torchvision) (2.27.1)\n",
            "Requirement already satisfied: pillow!=8.3.*,>=5.3.0 in /usr/local/lib/python3.10/dist-packages (from torchvision) (8.4.0)\n",
            "Requirement already satisfied: MarkupSafe>=2.0 in /usr/local/lib/python3.10/dist-packages (from jinja2->torch) (2.1.2)\n",
            "Requirement already satisfied: urllib3<1.27,>=1.21.1 in /usr/local/lib/python3.10/dist-packages (from requests->torchvision) (1.26.15)\n",
            "Requirement already satisfied: certifi>=2017.4.17 in /usr/local/lib/python3.10/dist-packages (from requests->torchvision) (2022.12.7)\n",
            "Requirement already satisfied: charset-normalizer~=2.0.0 in /usr/local/lib/python3.10/dist-packages (from requests->torchvision) (2.0.12)\n",
            "Requirement already satisfied: idna<4,>=2.5 in /usr/local/lib/python3.10/dist-packages (from requests->torchvision) (3.4)\n",
            "Requirement already satisfied: mpmath>=0.19 in /usr/local/lib/python3.10/dist-packages (from sympy->torch) (1.3.0)\n"
          ]
        }
      ],
      "source": [
        "# Install torch for Ubuntu\n",
        "%pip install torch torchvision torchaudio --index-url https://download.pytorch.org/whl/cpu"
      ]
    },
    {
      "cell_type": "code",
      "execution_count": null,
      "id": "e90084b8",
      "metadata": {
        "ExecuteTime": {
          "end_time": "2023-04-30T17:49:56.694015Z",
          "start_time": "2023-04-30T17:49:56.655773Z"
        },
        "id": "e90084b8",
        "colab": {
          "base_uri": "https://localhost:8080/"
        },
        "outputId": "b25d6d5a-9e94-4d85-f936-cc3d88ffc273"
      },
      "outputs": [
        {
          "output_type": "stream",
          "name": "stdout",
          "text": [
            "Downloading http://yann.lecun.com/exdb/mnist/train-images-idx3-ubyte.gz\n",
            "Downloading http://yann.lecun.com/exdb/mnist/train-images-idx3-ubyte.gz to ./data/MNIST/raw/train-images-idx3-ubyte.gz\n"
          ]
        },
        {
          "output_type": "stream",
          "name": "stderr",
          "text": [
            "100%|██████████| 9912422/9912422 [00:00<00:00, 394684886.36it/s]"
          ]
        },
        {
          "output_type": "stream",
          "name": "stdout",
          "text": [
            "Extracting ./data/MNIST/raw/train-images-idx3-ubyte.gz to ./data/MNIST/raw\n"
          ]
        },
        {
          "output_type": "stream",
          "name": "stderr",
          "text": [
            "\n"
          ]
        },
        {
          "output_type": "stream",
          "name": "stdout",
          "text": [
            "\n",
            "Downloading http://yann.lecun.com/exdb/mnist/train-labels-idx1-ubyte.gz\n",
            "Downloading http://yann.lecun.com/exdb/mnist/train-labels-idx1-ubyte.gz to ./data/MNIST/raw/train-labels-idx1-ubyte.gz\n"
          ]
        },
        {
          "output_type": "stream",
          "name": "stderr",
          "text": [
            "100%|██████████| 28881/28881 [00:00<00:00, 44948309.40it/s]\n"
          ]
        },
        {
          "output_type": "stream",
          "name": "stdout",
          "text": [
            "Extracting ./data/MNIST/raw/train-labels-idx1-ubyte.gz to ./data/MNIST/raw\n",
            "\n",
            "Downloading http://yann.lecun.com/exdb/mnist/t10k-images-idx3-ubyte.gz\n",
            "Downloading http://yann.lecun.com/exdb/mnist/t10k-images-idx3-ubyte.gz to ./data/MNIST/raw/t10k-images-idx3-ubyte.gz\n"
          ]
        },
        {
          "output_type": "stream",
          "name": "stderr",
          "text": [
            "100%|██████████| 1648877/1648877 [00:00<00:00, 204062771.73it/s]"
          ]
        },
        {
          "output_type": "stream",
          "name": "stdout",
          "text": [
            "Extracting ./data/MNIST/raw/t10k-images-idx3-ubyte.gz to ./data/MNIST/raw\n",
            "\n",
            "Downloading http://yann.lecun.com/exdb/mnist/t10k-labels-idx1-ubyte.gz\n",
            "Downloading http://yann.lecun.com/exdb/mnist/t10k-labels-idx1-ubyte.gz to ./data/MNIST/raw/t10k-labels-idx1-ubyte.gz\n"
          ]
        },
        {
          "output_type": "stream",
          "name": "stderr",
          "text": [
            "\n",
            "100%|██████████| 4542/4542 [00:00<00:00, 16903752.23it/s]\n"
          ]
        },
        {
          "output_type": "stream",
          "name": "stdout",
          "text": [
            "Extracting ./data/MNIST/raw/t10k-labels-idx1-ubyte.gz to ./data/MNIST/raw\n",
            "\n"
          ]
        }
      ],
      "source": [
        "import torchvision\n",
        "mnist_train = torchvision.datasets.MNIST(root='./data', train=True, download=True)\n",
        "mnist_test = torchvision.datasets.MNIST(root='./data', train=False, download=True)"
      ]
    },
    {
      "cell_type": "markdown",
      "id": "eacc09b8",
      "metadata": {
        "id": "eacc09b8"
      },
      "source": [
        "# ДЗ №3"
      ]
    },
    {
      "cell_type": "markdown",
      "id": "b97f786a",
      "metadata": {
        "id": "b97f786a"
      },
      "source": [
        "1) Построить графики зависимости точности (%) и времени обучения (с) от размера батча (batch_size)\n",
        "2) Обучить модель на наборе данных MNIST\n",
        "3) Все выполненные дз скидываем в следующем формате: \"Фамилия_№ДЗ.ipynb\""
      ]
    },
    {
      "cell_type": "code",
      "execution_count": null,
      "id": "db6f4b20",
      "metadata": {
        "colab": {
          "base_uri": "https://localhost:8080/"
        },
        "id": "db6f4b20",
        "outputId": "6f8c67b4-df5c-4ec3-c4c9-fdcf159f3023"
      },
      "outputs": [
        {
          "output_type": "stream",
          "name": "stdout",
          "text": [
            "Epoch 1, Batch 100: loss 2.205\n",
            "Epoch 1, Batch 200: loss 1.878\n",
            "Epoch 1, Batch 300: loss 1.384\n",
            "Epoch 1, Batch 400: loss 0.980\n",
            "Epoch 1, Batch 500: loss 0.759\n",
            "Epoch 1, Batch 600: loss 0.620\n",
            "Epoch 1, Batch 700: loss 0.553\n",
            "Epoch 1, Batch 800: loss 0.514\n",
            "Epoch 1, Batch 900: loss 0.464\n",
            "Epoch 2, Batch 100: loss 0.418\n",
            "Epoch 2, Batch 200: loss 0.420\n",
            "Epoch 2, Batch 300: loss 0.402\n",
            "Epoch 2, Batch 400: loss 0.387\n",
            "Epoch 2, Batch 500: loss 0.377\n",
            "Epoch 2, Batch 600: loss 0.368\n",
            "Epoch 2, Batch 700: loss 0.358\n",
            "Epoch 2, Batch 800: loss 0.369\n",
            "Epoch 2, Batch 900: loss 0.363\n",
            "Epoch 3, Batch 100: loss 0.349\n",
            "Epoch 3, Batch 200: loss 0.337\n",
            "Epoch 3, Batch 300: loss 0.346\n",
            "Epoch 3, Batch 400: loss 0.322\n",
            "Epoch 3, Batch 500: loss 0.317\n",
            "Epoch 3, Batch 600: loss 0.320\n",
            "Epoch 3, Batch 700: loss 0.298\n",
            "Epoch 3, Batch 800: loss 0.316\n",
            "Epoch 3, Batch 900: loss 0.321\n",
            "Epoch 4, Batch 100: loss 0.303\n",
            "Epoch 4, Batch 200: loss 0.285\n",
            "Epoch 4, Batch 300: loss 0.301\n",
            "Epoch 4, Batch 400: loss 0.291\n",
            "Epoch 4, Batch 500: loss 0.302\n",
            "Epoch 4, Batch 600: loss 0.296\n",
            "Epoch 4, Batch 700: loss 0.302\n",
            "Epoch 4, Batch 800: loss 0.270\n",
            "Epoch 4, Batch 900: loss 0.285\n",
            "Epoch 5, Batch 100: loss 0.272\n",
            "Epoch 5, Batch 200: loss 0.258\n",
            "Epoch 5, Batch 300: loss 0.272\n",
            "Epoch 5, Batch 400: loss 0.273\n",
            "Epoch 5, Batch 500: loss 0.266\n",
            "Epoch 5, Batch 600: loss 0.278\n",
            "Epoch 5, Batch 700: loss 0.273\n",
            "Epoch 5, Batch 800: loss 0.264\n",
            "Epoch 5, Batch 900: loss 0.262\n",
            "Epoch 6, Batch 100: loss 0.241\n",
            "Epoch 6, Batch 200: loss 0.255\n",
            "Epoch 6, Batch 300: loss 0.260\n",
            "Epoch 6, Batch 400: loss 0.237\n",
            "Epoch 6, Batch 500: loss 0.258\n",
            "Epoch 6, Batch 600: loss 0.224\n",
            "Epoch 6, Batch 700: loss 0.241\n",
            "Epoch 6, Batch 800: loss 0.241\n",
            "Epoch 6, Batch 900: loss 0.250\n",
            "Epoch 7, Batch 100: loss 0.237\n",
            "Epoch 7, Batch 200: loss 0.215\n",
            "Epoch 7, Batch 300: loss 0.246\n",
            "Epoch 7, Batch 400: loss 0.228\n",
            "Epoch 7, Batch 500: loss 0.235\n",
            "Epoch 7, Batch 600: loss 0.220\n",
            "Epoch 7, Batch 700: loss 0.220\n",
            "Epoch 7, Batch 800: loss 0.213\n",
            "Epoch 7, Batch 900: loss 0.214\n",
            "Epoch 8, Batch 100: loss 0.194\n",
            "Epoch 8, Batch 200: loss 0.191\n",
            "Epoch 8, Batch 300: loss 0.215\n",
            "Epoch 8, Batch 400: loss 0.218\n",
            "Epoch 8, Batch 500: loss 0.216\n",
            "Epoch 8, Batch 600: loss 0.198\n",
            "Epoch 8, Batch 700: loss 0.213\n",
            "Epoch 8, Batch 800: loss 0.209\n",
            "Epoch 8, Batch 900: loss 0.196\n",
            "Epoch 9, Batch 100: loss 0.187\n",
            "Epoch 9, Batch 200: loss 0.190\n",
            "Epoch 9, Batch 300: loss 0.194\n",
            "Epoch 9, Batch 400: loss 0.190\n",
            "Epoch 9, Batch 500: loss 0.188\n",
            "Epoch 9, Batch 600: loss 0.192\n",
            "Epoch 9, Batch 700: loss 0.189\n",
            "Epoch 9, Batch 800: loss 0.178\n",
            "Epoch 9, Batch 900: loss 0.189\n",
            "Epoch 10, Batch 100: loss 0.176\n",
            "Epoch 10, Batch 200: loss 0.172\n",
            "Epoch 10, Batch 300: loss 0.179\n",
            "Epoch 10, Batch 400: loss 0.174\n",
            "Epoch 10, Batch 500: loss 0.174\n",
            "Epoch 10, Batch 600: loss 0.174\n",
            "Epoch 10, Batch 700: loss 0.178\n",
            "Epoch 10, Batch 800: loss 0.180\n",
            "Epoch 10, Batch 900: loss 0.161\n",
            "Training finished.\n",
            "Test Accuracy: 94.99%\n"
          ]
        }
      ],
      "source": [
        "import torch\n",
        "import torch.nn as nn\n",
        "import torch.optim as optim\n",
        "import torchvision\n",
        "from torchvision import transforms\n",
        "\n",
        "# Загрузка данных\n",
        "transform = transforms.Compose([transforms.ToTensor(), transforms.Normalize((0.5,), (0.5,))])\n",
        "\n",
        "mnist_train = torchvision.datasets.MNIST(root='./data', train=True, download=True, transform=transform)\n",
        "mnist_test = torchvision.datasets.MNIST(root='./data', train=False, download=True, transform=transform)\n",
        "\n",
        "train_loader = torch.utils.data.DataLoader(mnist_train, batch_size=64, shuffle=True)\n",
        "test_loader = torch.utils.data.DataLoader(mnist_test, batch_size=64, shuffle=False)\n",
        "\n",
        "# Определение модели\n",
        "class Net(nn.Module):\n",
        "    def __init__(self):\n",
        "        super(Net, self).__init__()\n",
        "        self.fc1 = nn.Linear(784, 128)\n",
        "        self.fc2 = nn.Linear(128, 64)\n",
        "        self.fc3 = nn.Linear(64, 10)\n",
        "\n",
        "    def forward(self, x):\n",
        "        x = x.view(-1, 784)\n",
        "        x = torch.relu(self.fc1(x))\n",
        "        x = torch.relu(self.fc2(x))\n",
        "        x = self.fc3(x)\n",
        "        return x\n",
        "\n",
        "model = Net()\n",
        "\n",
        "# Определение функции потерь и оптимизатора\n",
        "criterion = nn.CrossEntropyLoss()\n",
        "optimizer = optim.SGD(model.parameters(), lr=0.01)\n",
        "\n",
        "# Обучение модели\n",
        "num_epochs = 10\n",
        "\n",
        "for epoch in range(num_epochs):\n",
        "    running_loss = 0.0\n",
        "    for i, data in enumerate(train_loader, 0):\n",
        "        inputs, labels = data\n",
        "        optimizer.zero_grad()\n",
        "        outputs = model(inputs)\n",
        "        loss = criterion(outputs, labels)\n",
        "        loss.backward()\n",
        "        optimizer.step()\n",
        "\n",
        "        running_loss += loss.item()\n",
        "        if i % 100 == 99:\n",
        "            print(f'Epoch {epoch + 1}, Batch {i + 1}: loss {running_loss / 100:.3f}')\n",
        "            running_loss = 0.0\n",
        "\n",
        "print('Training finished.')\n",
        "\n",
        "# Оценка модели на тестовом наборе данных\n",
        "correct = 0\n",
        "total = 0\n",
        "\n",
        "with torch.no_grad():\n",
        "    for data in test_loader:\n",
        "        images, labels = data\n",
        "        outputs = model(images)\n",
        "        _, predicted = torch.max(outputs.data, 1)\n",
        "        total += labels.size(0)\n",
        "        correct += (predicted == labels).sum().item()\n",
        "\n",
        "accuracy = correct / total\n",
        "print(f'Test Accuracy: {accuracy * 100:.2f}%')\n"
      ]
    },
    {
      "cell_type": "code",
      "source": [
        "import matplotlib.pyplot as plt\n",
        "\n",
        "# Получение шестой картинки и метки из тестового набора данных\n",
        "image, label = mnist_test[5]  # Получение шестой картинки и соответствующей метки\n",
        "image = image.squeeze().numpy()  # Преобразование тензора в массив NumPy и удаление измерения пакета\n",
        "\n",
        "# Преобразование картинки в тензор и получение прогноза модели\n",
        "image_tensor = torch.from_numpy(image).unsqueeze(0).unsqueeze(0).float()  # Преобразование массива в тензор\n",
        "with torch.no_grad():\n",
        "    model.eval()\n",
        "    output = model(image_tensor)\n",
        "    _, predicted = torch.max(output, 1)\n",
        "\n",
        "# Вывод прогноза модели и отображение изображения\n",
        "predicted_class = predicted.item()\n",
        "class_names = ['0', '1', '2', '3', '4', '5', '6', '7', '8', '9']  # Список классов\n",
        "print(f\"Predicted class: {class_names[predicted_class]}\")\n",
        "\n",
        "# Отображение изображения\n",
        "plt.imshow(image, cmap='gray')\n",
        "plt.axis('off')\n",
        "plt.show()\n"
      ],
      "metadata": {
        "colab": {
          "base_uri": "https://localhost:8080/",
          "height": 424
        },
        "id": "2ItndWD6F1aK",
        "outputId": "5f14c548-cb1d-4571-ac7f-22f300010bfc"
      },
      "id": "2ItndWD6F1aK",
      "execution_count": null,
      "outputs": [
        {
          "output_type": "stream",
          "name": "stdout",
          "text": [
            "Predicted class: 1\n"
          ]
        },
        {
          "output_type": "display_data",
          "data": {
            "text/plain": [
              "<Figure size 640x480 with 1 Axes>"
            ],
            "image/png": "[encoded data removed]"
          },
          "metadata": {}
        }
      ]
    }
  ],
  "metadata": {
    "kernelspec": {
      "display_name": "Python 3",
      "name": "python3"
    },
    "language_info": {
      "name": "python"
    },
    "toc": {
      "base_numbering": 1,
      "nav_menu": {},
      "number_sections": true,
      "sideBar": true,
      "skip_h1_title": false,
      "title_cell": "Table of Contents",
      "title_sidebar": "Contents",
      "toc_cell": false,
      "toc_position": {},
      "toc_section_display": true,
      "toc_window_display": false
    },
    "varInspector": {
      "cols": {
        "lenName": 16,
        "lenType": 16,
        "lenVar": 40
      },
      "kernels_config": {
        "python": {
          "delete_cmd_postfix": "",
          "delete_cmd_prefix": "del ",
          "library": "var_list.py",
          "varRefreshCmd": "print(var_dic_list())"
        },
        "r": {
          "delete_cmd_postfix": ") ",
          "delete_cmd_prefix": "rm(",
          "library": "var_list.r",
          "varRefreshCmd": "cat(var_dic_list()) "
        }
      },
      "types_to_exclude": [
        "module",
        "function",
        "builtin_function_or_method",
        "instance",
        "_Feature"
      ],
      "window_display": false
    },
    "colab": {
      "provenance": []
    },
    "gpuClass": "standard"
  },
  "nbformat": 4,
  "nbformat_minor": 5
}