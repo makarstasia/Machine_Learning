{
 "cells": [
  {
   "cell_type": "code",
   "execution_count": 1,
   "id": "b2441ec7",
   "metadata": {
    "_cell_guid": "b1076dfc-b9ad-4769-8c92-a6c4dae69d19",
    "_uuid": "8f2839f25d086af736a60e9eeb907d3b93b6e0e5",
    "execution": {
     "iopub.execute_input": "2023-03-03T23:45:16.951842Z",
     "iopub.status.busy": "2023-03-03T23:45:16.950465Z",
     "iopub.status.idle": "2023-03-03T23:45:16.964448Z",
     "shell.execute_reply": "2023-03-03T23:45:16.963289Z"
    },
    "papermill": {
     "duration": 0.026611,
     "end_time": "2023-03-03T23:45:16.967148",
     "exception": false,
     "start_time": "2023-03-03T23:45:16.940537",
     "status": "completed"
    },
    "tags": []
   },
   "outputs": [],
   "source": [
    "import pandas as pd\n",
    "import numpy as np\n",
    "\n",
    "import matplotlib.pyplot as plt"
   ]
  },
  {
   "cell_type": "code",
   "execution_count": 2,
   "id": "b0b2842b",
   "metadata": {
    "execution": {
     "iopub.execute_input": "2023-03-03T23:45:16.981102Z",
     "iopub.status.busy": "2023-03-03T23:45:16.980594Z",
     "iopub.status.idle": "2023-03-03T23:45:17.067654Z",
     "shell.execute_reply": "2023-03-03T23:45:17.066371Z"
    },
    "papermill": {
     "duration": 0.097057,
     "end_time": "2023-03-03T23:45:17.070395",
     "exception": false,
     "start_time": "2023-03-03T23:45:16.973338",
     "status": "completed"
    },
    "tags": []
   },
   "outputs": [
    {
     "data": {
      "text/html": [
       "<div>\n",
       "<style scoped>\n",
       "    .dataframe tbody tr th:only-of-type {\n",
       "        vertical-align: middle;\n",
       "    }\n",
       "\n",
       "    .dataframe tbody tr th {\n",
       "        vertical-align: top;\n",
       "    }\n",
       "\n",
       "    .dataframe thead th {\n",
       "        text-align: right;\n",
       "    }\n",
       "</style>\n",
       "<table border=\"1\" class=\"dataframe\">\n",
       "  <thead>\n",
       "    <tr style=\"text-align: right;\">\n",
       "      <th></th>\n",
       "      <th>Id</th>\n",
       "      <th>MSSubClass</th>\n",
       "      <th>MSZoning</th>\n",
       "      <th>LotFrontage</th>\n",
       "      <th>LotArea</th>\n",
       "      <th>Street</th>\n",
       "      <th>Alley</th>\n",
       "      <th>LotShape</th>\n",
       "      <th>LandContour</th>\n",
       "      <th>Utilities</th>\n",
       "      <th>...</th>\n",
       "      <th>PoolArea</th>\n",
       "      <th>PoolQC</th>\n",
       "      <th>Fence</th>\n",
       "      <th>MiscFeature</th>\n",
       "      <th>MiscVal</th>\n",
       "      <th>MoSold</th>\n",
       "      <th>YrSold</th>\n",
       "      <th>SaleType</th>\n",
       "      <th>SaleCondition</th>\n",
       "      <th>SalePrice</th>\n",
       "    </tr>\n",
       "  </thead>\n",
       "  <tbody>\n",
       "    <tr>\n",
       "      <th>0</th>\n",
       "      <td>1</td>\n",
       "      <td>60</td>\n",
       "      <td>RL</td>\n",
       "      <td>65.0</td>\n",
       "      <td>8450</td>\n",
       "      <td>Pave</td>\n",
       "      <td>NaN</td>\n",
       "      <td>Reg</td>\n",
       "      <td>Lvl</td>\n",
       "      <td>AllPub</td>\n",
       "      <td>...</td>\n",
       "      <td>0</td>\n",
       "      <td>NaN</td>\n",
       "      <td>NaN</td>\n",
       "      <td>NaN</td>\n",
       "      <td>0</td>\n",
       "      <td>2</td>\n",
       "      <td>2008</td>\n",
       "      <td>WD</td>\n",
       "      <td>Normal</td>\n",
       "      <td>208500</td>\n",
       "    </tr>\n",
       "    <tr>\n",
       "      <th>1</th>\n",
       "      <td>2</td>\n",
       "      <td>20</td>\n",
       "      <td>RL</td>\n",
       "      <td>80.0</td>\n",
       "      <td>9600</td>\n",
       "      <td>Pave</td>\n",
       "      <td>NaN</td>\n",
       "      <td>Reg</td>\n",
       "      <td>Lvl</td>\n",
       "      <td>AllPub</td>\n",
       "      <td>...</td>\n",
       "      <td>0</td>\n",
       "      <td>NaN</td>\n",
       "      <td>NaN</td>\n",
       "      <td>NaN</td>\n",
       "      <td>0</td>\n",
       "      <td>5</td>\n",
       "      <td>2007</td>\n",
       "      <td>WD</td>\n",
       "      <td>Normal</td>\n",
       "      <td>181500</td>\n",
       "    </tr>\n",
       "    <tr>\n",
       "      <th>2</th>\n",
       "      <td>3</td>\n",
       "      <td>60</td>\n",
       "      <td>RL</td>\n",
       "      <td>68.0</td>\n",
       "      <td>11250</td>\n",
       "      <td>Pave</td>\n",
       "      <td>NaN</td>\n",
       "      <td>IR1</td>\n",
       "      <td>Lvl</td>\n",
       "      <td>AllPub</td>\n",
       "      <td>...</td>\n",
       "      <td>0</td>\n",
       "      <td>NaN</td>\n",
       "      <td>NaN</td>\n",
       "      <td>NaN</td>\n",
       "      <td>0</td>\n",
       "      <td>9</td>\n",
       "      <td>2008</td>\n",
       "      <td>WD</td>\n",
       "      <td>Normal</td>\n",
       "      <td>223500</td>\n",
       "    </tr>\n",
       "    <tr>\n",
       "      <th>3</th>\n",
       "      <td>4</td>\n",
       "      <td>70</td>\n",
       "      <td>RL</td>\n",
       "      <td>60.0</td>\n",
       "      <td>9550</td>\n",
       "      <td>Pave</td>\n",
       "      <td>NaN</td>\n",
       "      <td>IR1</td>\n",
       "      <td>Lvl</td>\n",
       "      <td>AllPub</td>\n",
       "      <td>...</td>\n",
       "      <td>0</td>\n",
       "      <td>NaN</td>\n",
       "      <td>NaN</td>\n",
       "      <td>NaN</td>\n",
       "      <td>0</td>\n",
       "      <td>2</td>\n",
       "      <td>2006</td>\n",
       "      <td>WD</td>\n",
       "      <td>Abnorml</td>\n",
       "      <td>140000</td>\n",
       "    </tr>\n",
       "    <tr>\n",
       "      <th>4</th>\n",
       "      <td>5</td>\n",
       "      <td>60</td>\n",
       "      <td>RL</td>\n",
       "      <td>84.0</td>\n",
       "      <td>14260</td>\n",
       "      <td>Pave</td>\n",
       "      <td>NaN</td>\n",
       "      <td>IR1</td>\n",
       "      <td>Lvl</td>\n",
       "      <td>AllPub</td>\n",
       "      <td>...</td>\n",
       "      <td>0</td>\n",
       "      <td>NaN</td>\n",
       "      <td>NaN</td>\n",
       "      <td>NaN</td>\n",
       "      <td>0</td>\n",
       "      <td>12</td>\n",
       "      <td>2008</td>\n",
       "      <td>WD</td>\n",
       "      <td>Normal</td>\n",
       "      <td>250000</td>\n",
       "    </tr>\n",
       "  </tbody>\n",
       "</table>\n",
       "<p>5 rows × 81 columns</p>\n",
       "</div>"
      ],
      "text/plain": [
       "   Id  MSSubClass MSZoning  LotFrontage  LotArea Street Alley LotShape  \\\n",
       "0   1          60       RL         65.0     8450   Pave   NaN      Reg   \n",
       "1   2          20       RL         80.0     9600   Pave   NaN      Reg   \n",
       "2   3          60       RL         68.0    11250   Pave   NaN      IR1   \n",
       "3   4          70       RL         60.0     9550   Pave   NaN      IR1   \n",
       "4   5          60       RL         84.0    14260   Pave   NaN      IR1   \n",
       "\n",
       "  LandContour Utilities  ... PoolArea PoolQC Fence MiscFeature MiscVal MoSold  \\\n",
       "0         Lvl    AllPub  ...        0    NaN   NaN         NaN       0      2   \n",
       "1         Lvl    AllPub  ...        0    NaN   NaN         NaN       0      5   \n",
       "2         Lvl    AllPub  ...        0    NaN   NaN         NaN       0      9   \n",
       "3         Lvl    AllPub  ...        0    NaN   NaN         NaN       0      2   \n",
       "4         Lvl    AllPub  ...        0    NaN   NaN         NaN       0     12   \n",
       "\n",
       "  YrSold  SaleType  SaleCondition  SalePrice  \n",
       "0   2008        WD         Normal     208500  \n",
       "1   2007        WD         Normal     181500  \n",
       "2   2008        WD         Normal     223500  \n",
       "3   2006        WD        Abnorml     140000  \n",
       "4   2008        WD         Normal     250000  \n",
       "\n",
       "[5 rows x 81 columns]"
      ]
     },
     "execution_count": 2,
     "metadata": {},
     "output_type": "execute_result"
    }
   ],
   "source": [
    "train = pd.read_csv(\"../input/intro2ml-kpfu-1/train.csv\")\n",
    "train.head()"
   ]
  },
  {
   "cell_type": "code",
   "execution_count": 3,
   "id": "5b11f6e0",
   "metadata": {
    "execution": {
     "iopub.execute_input": "2023-03-03T23:45:17.085997Z",
     "iopub.status.busy": "2023-03-03T23:45:17.084728Z",
     "iopub.status.idle": "2023-03-03T23:45:17.099509Z",
     "shell.execute_reply": "2023-03-03T23:45:17.098359Z"
    },
    "papermill": {
     "duration": 0.025595,
     "end_time": "2023-03-03T23:45:17.102357",
     "exception": false,
     "start_time": "2023-03-03T23:45:17.076762",
     "status": "completed"
    },
    "tags": []
   },
   "outputs": [
    {
     "data": {
      "text/html": [
       "<div>\n",
       "<style scoped>\n",
       "    .dataframe tbody tr th:only-of-type {\n",
       "        vertical-align: middle;\n",
       "    }\n",
       "\n",
       "    .dataframe tbody tr th {\n",
       "        vertical-align: top;\n",
       "    }\n",
       "\n",
       "    .dataframe thead th {\n",
       "        text-align: right;\n",
       "    }\n",
       "</style>\n",
       "<table border=\"1\" class=\"dataframe\">\n",
       "  <thead>\n",
       "    <tr style=\"text-align: right;\">\n",
       "      <th></th>\n",
       "      <th>SalePrice</th>\n",
       "      <th>LotArea</th>\n",
       "      <th>1stFlrSF</th>\n",
       "      <th>OverallQual</th>\n",
       "      <th>GarageArea</th>\n",
       "      <th>YearBuilt</th>\n",
       "      <th>TotalBsmtSF</th>\n",
       "      <th>2ndFlrSF</th>\n",
       "    </tr>\n",
       "  </thead>\n",
       "  <tbody>\n",
       "    <tr>\n",
       "      <th>0</th>\n",
       "      <td>208500</td>\n",
       "      <td>8450</td>\n",
       "      <td>856</td>\n",
       "      <td>7</td>\n",
       "      <td>548</td>\n",
       "      <td>2003</td>\n",
       "      <td>856</td>\n",
       "      <td>854</td>\n",
       "    </tr>\n",
       "    <tr>\n",
       "      <th>1</th>\n",
       "      <td>181500</td>\n",
       "      <td>9600</td>\n",
       "      <td>1262</td>\n",
       "      <td>6</td>\n",
       "      <td>460</td>\n",
       "      <td>1976</td>\n",
       "      <td>1262</td>\n",
       "      <td>0</td>\n",
       "    </tr>\n",
       "    <tr>\n",
       "      <th>2</th>\n",
       "      <td>223500</td>\n",
       "      <td>11250</td>\n",
       "      <td>920</td>\n",
       "      <td>7</td>\n",
       "      <td>608</td>\n",
       "      <td>2001</td>\n",
       "      <td>920</td>\n",
       "      <td>866</td>\n",
       "    </tr>\n",
       "    <tr>\n",
       "      <th>3</th>\n",
       "      <td>140000</td>\n",
       "      <td>9550</td>\n",
       "      <td>961</td>\n",
       "      <td>7</td>\n",
       "      <td>642</td>\n",
       "      <td>1915</td>\n",
       "      <td>756</td>\n",
       "      <td>756</td>\n",
       "    </tr>\n",
       "    <tr>\n",
       "      <th>4</th>\n",
       "      <td>250000</td>\n",
       "      <td>14260</td>\n",
       "      <td>1145</td>\n",
       "      <td>8</td>\n",
       "      <td>836</td>\n",
       "      <td>2000</td>\n",
       "      <td>1145</td>\n",
       "      <td>1053</td>\n",
       "    </tr>\n",
       "  </tbody>\n",
       "</table>\n",
       "</div>"
      ],
      "text/plain": [
       "   SalePrice  LotArea  1stFlrSF  OverallQual  GarageArea  YearBuilt  \\\n",
       "0     208500     8450       856            7         548       2003   \n",
       "1     181500     9600      1262            6         460       1976   \n",
       "2     223500    11250       920            7         608       2001   \n",
       "3     140000     9550       961            7         642       1915   \n",
       "4     250000    14260      1145            8         836       2000   \n",
       "\n",
       "   TotalBsmtSF  2ndFlrSF  \n",
       "0          856       854  \n",
       "1         1262         0  \n",
       "2          920       866  \n",
       "3          756       756  \n",
       "4         1145      1053  "
      ]
     },
     "execution_count": 3,
     "metadata": {},
     "output_type": "execute_result"
    }
   ],
   "source": [
    "h_sales= train[['SalePrice','LotArea','1stFlrSF','OverallQual','GarageArea','YearBuilt','TotalBsmtSF','2ndFlrSF',]]\n",
    "h_sales.head()"
   ]
  },
  {
   "cell_type": "code",
   "execution_count": 4,
   "id": "1dd37a5b",
   "metadata": {
    "execution": {
     "iopub.execute_input": "2023-03-03T23:45:17.118000Z",
     "iopub.status.busy": "2023-03-03T23:45:17.117056Z",
     "iopub.status.idle": "2023-03-03T23:45:17.126772Z",
     "shell.execute_reply": "2023-03-03T23:45:17.125654Z"
    },
    "papermill": {
     "duration": 0.020239,
     "end_time": "2023-03-03T23:45:17.129172",
     "exception": false,
     "start_time": "2023-03-03T23:45:17.108933",
     "status": "completed"
    },
    "tags": []
   },
   "outputs": [
    {
     "data": {
      "text/plain": [
       "SalePrice      0\n",
       "LotArea        0\n",
       "1stFlrSF       0\n",
       "OverallQual    0\n",
       "GarageArea     0\n",
       "YearBuilt      0\n",
       "TotalBsmtSF    0\n",
       "2ndFlrSF       0\n",
       "dtype: int64"
      ]
     },
     "execution_count": 4,
     "metadata": {},
     "output_type": "execute_result"
    }
   ],
   "source": [
    "h_sales.isnull().sum()"
   ]
  },
  {
   "cell_type": "code",
   "execution_count": 5,
   "id": "d7f0067a",
   "metadata": {
    "execution": {
     "iopub.execute_input": "2023-03-03T23:45:17.144924Z",
     "iopub.status.busy": "2023-03-03T23:45:17.143748Z",
     "iopub.status.idle": "2023-03-03T23:45:17.148887Z",
     "shell.execute_reply": "2023-03-03T23:45:17.147824Z"
    },
    "papermill": {
     "duration": 0.015493,
     "end_time": "2023-03-03T23:45:17.151232",
     "exception": false,
     "start_time": "2023-03-03T23:45:17.135739",
     "status": "completed"
    },
    "tags": []
   },
   "outputs": [],
   "source": [
    "# h_sales = h_sales.fillna(h_sales.mean ()) #заменим nane значения средним"
   ]
  },
  {
   "cell_type": "markdown",
   "id": "3ff595fb",
   "metadata": {
    "papermill": {
     "duration": 0.006162,
     "end_time": "2023-03-03T23:45:17.163938",
     "exception": false,
     "start_time": "2023-03-03T23:45:17.157776",
     "status": "completed"
    },
    "tags": []
   },
   "source": [
    "Обработка данных"
   ]
  },
  {
   "cell_type": "code",
   "execution_count": 6,
   "id": "64f48615",
   "metadata": {
    "execution": {
     "iopub.execute_input": "2023-03-03T23:45:17.179442Z",
     "iopub.status.busy": "2023-03-03T23:45:17.178570Z",
     "iopub.status.idle": "2023-03-03T23:45:17.192670Z",
     "shell.execute_reply": "2023-03-03T23:45:17.191710Z"
    },
    "papermill": {
     "duration": 0.025032,
     "end_time": "2023-03-03T23:45:17.195350",
     "exception": false,
     "start_time": "2023-03-03T23:45:17.170318",
     "status": "completed"
    },
    "tags": []
   },
   "outputs": [
    {
     "data": {
      "text/plain": [
       "array([[ 8450,   856,     7, ...,  2003,   856,   854],\n",
       "       [ 9600,  1262,     6, ...,  1976,  1262,     0],\n",
       "       [11250,   920,     7, ...,  2001,   920,   866],\n",
       "       ...,\n",
       "       [ 9042,  1188,     7, ...,  1941,  1152,  1152],\n",
       "       [ 9717,  1078,     5, ...,  1950,  1078,     0],\n",
       "       [ 9937,  1256,     5, ...,  1965,  1256,     0]])"
      ]
     },
     "execution_count": 6,
     "metadata": {},
     "output_type": "execute_result"
    }
   ],
   "source": [
    "n = len(h_sales)\n",
    "# n - количество объектов\n",
    "m = len(h_sales.drop('SalePrice', axis=1).columns)\n",
    "# m - количество признаков(колонок)\n",
    "y = h_sales['SalePrice'].values.reshape((n, 1)) #транспонируем строку(массив) с ценами\n",
    "X = h_sales.drop('SalePrice',  axis=1).values.reshape((n, m))\n",
    "X"
   ]
  },
  {
   "cell_type": "code",
   "execution_count": 7,
   "id": "11e50697",
   "metadata": {
    "execution": {
     "iopub.execute_input": "2023-03-03T23:45:17.210837Z",
     "iopub.status.busy": "2023-03-03T23:45:17.210350Z",
     "iopub.status.idle": "2023-03-03T23:45:17.218633Z",
     "shell.execute_reply": "2023-03-03T23:45:17.217796Z"
    },
    "papermill": {
     "duration": 0.018681,
     "end_time": "2023-03-03T23:45:17.220804",
     "exception": false,
     "start_time": "2023-03-03T23:45:17.202123",
     "status": "completed"
    },
    "tags": []
   },
   "outputs": [
    {
     "data": {
      "text/plain": [
       "array([[1.000e+00, 8.450e+03, 8.560e+02, ..., 2.003e+03, 8.560e+02,\n",
       "        8.540e+02],\n",
       "       [1.000e+00, 9.600e+03, 1.262e+03, ..., 1.976e+03, 1.262e+03,\n",
       "        0.000e+00],\n",
       "       [1.000e+00, 1.125e+04, 9.200e+02, ..., 2.001e+03, 9.200e+02,\n",
       "        8.660e+02],\n",
       "       ...,\n",
       "       [1.000e+00, 9.042e+03, 1.188e+03, ..., 1.941e+03, 1.152e+03,\n",
       "        1.152e+03],\n",
       "       [1.000e+00, 9.717e+03, 1.078e+03, ..., 1.950e+03, 1.078e+03,\n",
       "        0.000e+00],\n",
       "       [1.000e+00, 9.937e+03, 1.256e+03, ..., 1.965e+03, 1.256e+03,\n",
       "        0.000e+00]])"
      ]
     },
     "execution_count": 7,
     "metadata": {},
     "output_type": "execute_result"
    }
   ],
   "source": [
    "X = np.hstack((np.ones((n, 1)), X)) #расширим матрицу признаков сложив с единичной\n",
    "X"
   ]
  },
  {
   "cell_type": "markdown",
   "id": "bf095d4a",
   "metadata": {
    "papermill": {
     "duration": 0.006444,
     "end_time": "2023-03-03T23:45:17.234197",
     "exception": false,
     "start_time": "2023-03-03T23:45:17.227753",
     "status": "completed"
    },
    "tags": []
   },
   "source": [
    "**Реализуем градиентный спуск**"
   ]
  },
  {
   "cell_type": "code",
   "execution_count": 8,
   "id": "c18cc899",
   "metadata": {
    "execution": {
     "iopub.execute_input": "2023-03-03T23:45:17.249633Z",
     "iopub.status.busy": "2023-03-03T23:45:17.249162Z",
     "iopub.status.idle": "2023-03-03T23:45:17.258411Z",
     "shell.execute_reply": "2023-03-03T23:45:17.257158Z"
    },
    "papermill": {
     "duration": 0.020164,
     "end_time": "2023-03-03T23:45:17.261021",
     "exception": false,
     "start_time": "2023-03-03T23:45:17.240857",
     "status": "completed"
    },
    "tags": []
   },
   "outputs": [],
   "source": [
    "def grad(y, X, theta):  #функция град. спуска в векторном виде\n",
    "    n = y.shape[0]\n",
    "    return 1/n * X.transpose() @ (X @ theta - y)\n",
    "\n",
    "def L(y, X, theta):  #функция потерь ^2 для многомерного случая\n",
    "    n = y.shape[0]  \n",
    "    return 1/(2*n)*np.sum(np.power(X @ theta - y, 2))\n",
    "\n",
    "\n",
    "def fit(y, X, theta_0, alpha=0.001, nsteps = 100):  \n",
    "    # theta_0: начальное знач-ие \n",
    "    # alpha: скорость обучения\n",
    "    # nsteps: кол-во итераций\n",
    "    \n",
    "    theta = np.copy(theta_0)\n",
    "    loss = [L(y, X, theta)]\n",
    "    for i in range(nsteps):\n",
    "        theta -= alpha*grad(y, X, theta)   #обновление параметра theta \n",
    "        loss.append(L(y, X, theta))\n",
    "    return loss, theta"
   ]
  },
  {
   "cell_type": "code",
   "execution_count": 9,
   "id": "f244bd5b",
   "metadata": {
    "execution": {
     "iopub.execute_input": "2023-03-03T23:45:17.277509Z",
     "iopub.status.busy": "2023-03-03T23:45:17.277029Z",
     "iopub.status.idle": "2023-03-03T23:45:19.394946Z",
     "shell.execute_reply": "2023-03-03T23:45:19.393068Z"
    },
    "papermill": {
     "duration": 2.131387,
     "end_time": "2023-03-03T23:45:19.400024",
     "exception": false,
     "start_time": "2023-03-03T23:45:17.268637",
     "status": "completed"
    },
    "tags": []
   },
   "outputs": [
    {
     "data": {
      "text/plain": [
       "array([[2.08918694e-02],\n",
       "       [1.28223083e+00],\n",
       "       [3.20271825e+01],\n",
       "       [1.91633717e-01],\n",
       "       [1.64046650e+01],\n",
       "       [4.21705927e+01],\n",
       "       [3.16024863e+01],\n",
       "       [1.68718757e+01]])"
      ]
     },
     "execution_count": 9,
     "metadata": {},
     "output_type": "execute_result"
    }
   ],
   "source": [
    "theta_0 = np.zeros((m + 1, 1))\n",
    "loss_history, theta_best = fit(y, X, theta_0, alpha=1e-10, nsteps=10000)\n",
    "theta_best"
   ]
  },
  {
   "cell_type": "code",
   "execution_count": 10,
   "id": "ee189342",
   "metadata": {
    "execution": {
     "iopub.execute_input": "2023-03-03T23:45:19.438930Z",
     "iopub.status.busy": "2023-03-03T23:45:19.438137Z",
     "iopub.status.idle": "2023-03-03T23:45:19.951006Z",
     "shell.execute_reply": "2023-03-03T23:45:19.949433Z"
    },
    "papermill": {
     "duration": 0.535894,
     "end_time": "2023-03-03T23:45:19.954204",
     "exception": false,
     "start_time": "2023-03-03T23:45:19.418310",
     "status": "completed"
    },
    "tags": []
   },
   "outputs": [
    {
     "data": {
      "image/png": "[encoded data removed]",
      "text/plain": [
       "<Figure size 640x480 with 1 Axes>"
      ]
     },
     "metadata": {},
     "output_type": "display_data"
    }
   ],
   "source": [
    "# Т. к в многомерном случае не представляется возможным визуализировать мгс с помощью линии уровня т.к. пространство параметров имеет размерность m+1_\n",
    "# отобразим изменение значения ф. потерь в точке theta^(k) в зависимости от номера шага k\n",
    "plt.plot(loss_history)\n",
    "plt.xlabel('$k$')\n",
    "plt.ylabel('$L(\\\\theta^{(k)})$')\n",
    "_ = plt.title('Кривая обучения')"
   ]
  },
  {
   "cell_type": "code",
   "execution_count": 11,
   "id": "533f664d",
   "metadata": {
    "execution": {
     "iopub.execute_input": "2023-03-03T23:45:19.972696Z",
     "iopub.status.busy": "2023-03-03T23:45:19.972225Z",
     "iopub.status.idle": "2023-03-03T23:45:19.987252Z",
     "shell.execute_reply": "2023-03-03T23:45:19.985207Z"
    },
    "papermill": {
     "duration": 0.03068,
     "end_time": "2023-03-03T23:45:19.993766",
     "exception": false,
     "start_time": "2023-03-03T23:45:19.963086",
     "status": "completed"
    },
    "tags": []
   },
   "outputs": [
    {
     "data": {
      "text/plain": [
       "1762993649.426912"
      ]
     },
     "execution_count": 11,
     "metadata": {},
     "output_type": "execute_result"
    }
   ],
   "source": [
    "L(y, X, theta_best)"
   ]
  },
  {
   "cell_type": "markdown",
   "id": "3c6a552d",
   "metadata": {
    "papermill": {
     "duration": 0.018137,
     "end_time": "2023-03-03T23:45:20.030587",
     "exception": false,
     "start_time": "2023-03-03T23:45:20.012450",
     "status": "completed"
    },
    "tags": []
   },
   "source": [
    "мы обучили нашу модель"
   ]
  },
  {
   "cell_type": "code",
   "execution_count": 12,
   "id": "8c0293d3",
   "metadata": {
    "execution": {
     "iopub.execute_input": "2023-03-03T23:45:20.071537Z",
     "iopub.status.busy": "2023-03-03T23:45:20.070733Z",
     "iopub.status.idle": "2023-03-03T23:45:20.130289Z",
     "shell.execute_reply": "2023-03-03T23:45:20.128974Z"
    },
    "papermill": {
     "duration": 0.08352,
     "end_time": "2023-03-03T23:45:20.132916",
     "exception": false,
     "start_time": "2023-03-03T23:45:20.049396",
     "status": "completed"
    },
    "tags": []
   },
   "outputs": [
    {
     "data": {
      "text/html": [
       "<div>\n",
       "<style scoped>\n",
       "    .dataframe tbody tr th:only-of-type {\n",
       "        vertical-align: middle;\n",
       "    }\n",
       "\n",
       "    .dataframe tbody tr th {\n",
       "        vertical-align: top;\n",
       "    }\n",
       "\n",
       "    .dataframe thead th {\n",
       "        text-align: right;\n",
       "    }\n",
       "</style>\n",
       "<table border=\"1\" class=\"dataframe\">\n",
       "  <thead>\n",
       "    <tr style=\"text-align: right;\">\n",
       "      <th></th>\n",
       "      <th>LotArea</th>\n",
       "      <th>1stFlrSF</th>\n",
       "      <th>OverallQual</th>\n",
       "      <th>GarageArea</th>\n",
       "      <th>YearBuilt</th>\n",
       "      <th>TotalBsmtSF</th>\n",
       "      <th>2ndFlrSF</th>\n",
       "    </tr>\n",
       "  </thead>\n",
       "  <tbody>\n",
       "    <tr>\n",
       "      <th>0</th>\n",
       "      <td>11622</td>\n",
       "      <td>896</td>\n",
       "      <td>5</td>\n",
       "      <td>730.0</td>\n",
       "      <td>1961</td>\n",
       "      <td>882.0</td>\n",
       "      <td>0</td>\n",
       "    </tr>\n",
       "    <tr>\n",
       "      <th>1</th>\n",
       "      <td>14267</td>\n",
       "      <td>1329</td>\n",
       "      <td>6</td>\n",
       "      <td>312.0</td>\n",
       "      <td>1958</td>\n",
       "      <td>1329.0</td>\n",
       "      <td>0</td>\n",
       "    </tr>\n",
       "    <tr>\n",
       "      <th>2</th>\n",
       "      <td>13830</td>\n",
       "      <td>928</td>\n",
       "      <td>5</td>\n",
       "      <td>482.0</td>\n",
       "      <td>1997</td>\n",
       "      <td>928.0</td>\n",
       "      <td>701</td>\n",
       "    </tr>\n",
       "    <tr>\n",
       "      <th>3</th>\n",
       "      <td>9978</td>\n",
       "      <td>926</td>\n",
       "      <td>6</td>\n",
       "      <td>470.0</td>\n",
       "      <td>1998</td>\n",
       "      <td>926.0</td>\n",
       "      <td>678</td>\n",
       "    </tr>\n",
       "    <tr>\n",
       "      <th>4</th>\n",
       "      <td>5005</td>\n",
       "      <td>1280</td>\n",
       "      <td>8</td>\n",
       "      <td>506.0</td>\n",
       "      <td>1992</td>\n",
       "      <td>1280.0</td>\n",
       "      <td>0</td>\n",
       "    </tr>\n",
       "  </tbody>\n",
       "</table>\n",
       "</div>"
      ],
      "text/plain": [
       "   LotArea  1stFlrSF  OverallQual  GarageArea  YearBuilt  TotalBsmtSF  \\\n",
       "0    11622       896            5       730.0       1961        882.0   \n",
       "1    14267      1329            6       312.0       1958       1329.0   \n",
       "2    13830       928            5       482.0       1997        928.0   \n",
       "3     9978       926            6       470.0       1998        926.0   \n",
       "4     5005      1280            8       506.0       1992       1280.0   \n",
       "\n",
       "   2ndFlrSF  \n",
       "0         0  \n",
       "1         0  \n",
       "2       701  \n",
       "3       678  \n",
       "4         0  "
      ]
     },
     "execution_count": 12,
     "metadata": {},
     "output_type": "execute_result"
    }
   ],
   "source": [
    "test = pd.read_csv(\"../input/intro2ml-kpfu-1/test.csv\")\n",
    "h_testfirst= test[['Id','LotArea','1stFlrSF','OverallQual','GarageArea','YearBuilt','TotalBsmtSF','2ndFlrSF',]]\n",
    "h_test= test[['LotArea','1stFlrSF','OverallQual','GarageArea','YearBuilt','TotalBsmtSF','2ndFlrSF',]]\n",
    "# h_test = h_test.fillna(h_test.mean ())#уберем Nan\n",
    "h_test.head()"
   ]
  },
  {
   "cell_type": "code",
   "execution_count": 13,
   "id": "f671259b",
   "metadata": {
    "execution": {
     "iopub.execute_input": "2023-03-03T23:45:20.151344Z",
     "iopub.status.busy": "2023-03-03T23:45:20.150895Z",
     "iopub.status.idle": "2023-03-03T23:45:20.158130Z",
     "shell.execute_reply": "2023-03-03T23:45:20.156937Z"
    },
    "papermill": {
     "duration": 0.019569,
     "end_time": "2023-03-03T23:45:20.160585",
     "exception": false,
     "start_time": "2023-03-03T23:45:20.141016",
     "status": "completed"
    },
    "tags": []
   },
   "outputs": [],
   "source": [
    "n_test = len(h_test)\n",
    "# n - количество объектов\n",
    "m_test = len(h_test.columns)\n",
    "# m - количество признаков(колонок)\n",
    "X_test = h_test.values.reshape((n_test, m_test)) #нам тестовый набор для проверки обученной модели\n",
    "X_test = np.hstack((np.ones((n_test, 1)), X_test)) #расширим матрицу признаков сложив с единичной"
   ]
  },
  {
   "cell_type": "code",
   "execution_count": 14,
   "id": "60aad62d",
   "metadata": {
    "execution": {
     "iopub.execute_input": "2023-03-03T23:45:20.179851Z",
     "iopub.status.busy": "2023-03-03T23:45:20.178417Z",
     "iopub.status.idle": "2023-03-03T23:45:20.187258Z",
     "shell.execute_reply": "2023-03-03T23:45:20.186001Z"
    },
    "papermill": {
     "duration": 0.02139,
     "end_time": "2023-03-03T23:45:20.189855",
     "exception": false,
     "start_time": "2023-03-03T23:45:20.168465",
     "status": "completed"
    },
    "tags": []
   },
   "outputs": [
    {
     "data": {
      "text/plain": [
       "(1459, 8)"
      ]
     },
     "execution_count": 14,
     "metadata": {},
     "output_type": "execute_result"
    }
   ],
   "source": [
    "X_test.shape"
   ]
  },
  {
   "cell_type": "code",
   "execution_count": 15,
   "id": "158875f2",
   "metadata": {
    "execution": {
     "iopub.execute_input": "2023-03-03T23:45:20.208911Z",
     "iopub.status.busy": "2023-03-03T23:45:20.207594Z",
     "iopub.status.idle": "2023-03-03T23:45:20.216009Z",
     "shell.execute_reply": "2023-03-03T23:45:20.214668Z"
    },
    "papermill": {
     "duration": 0.020791,
     "end_time": "2023-03-03T23:45:20.218760",
     "exception": false,
     "start_time": "2023-03-03T23:45:20.197969",
     "status": "completed"
    },
    "tags": []
   },
   "outputs": [
    {
     "data": {
      "text/plain": [
       "(8, 1)"
      ]
     },
     "execution_count": 15,
     "metadata": {},
     "output_type": "execute_result"
    }
   ],
   "source": [
    "theta_best.shape"
   ]
  },
  {
   "cell_type": "code",
   "execution_count": 16,
   "id": "586b4a55",
   "metadata": {
    "execution": {
     "iopub.execute_input": "2023-03-03T23:45:20.237794Z",
     "iopub.status.busy": "2023-03-03T23:45:20.237320Z",
     "iopub.status.idle": "2023-03-03T23:45:20.256138Z",
     "shell.execute_reply": "2023-03-03T23:45:20.254235Z"
    },
    "papermill": {
     "duration": 0.033591,
     "end_time": "2023-03-03T23:45:20.260927",
     "exception": false,
     "start_time": "2023-03-03T23:45:20.227336",
     "status": "completed"
    },
    "tags": []
   },
   "outputs": [
    {
     "data": {
      "text/plain": [
       "array([166144.7519573 , 190546.86380505, 180731.47109283, ...,\n",
       "       195631.75905374, 157280.40635528, 187368.93532599])"
      ]
     },
     "execution_count": 16,
     "metadata": {},
     "output_type": "execute_result"
    }
   ],
   "source": [
    "Y_test = X_test.dot(theta_best) # Предсказание на тренировочных данных \n",
    "len(Y_test)\n",
    "\n",
    "Y_test = np.array(Y_test)\n",
    "Y_test= Y_test.flatten().tolist ()\n",
    "Y_test = np.array(Y_test)\n",
    "Y_test"
   ]
  },
  {
   "cell_type": "code",
   "execution_count": 17,
   "id": "3c60b09d",
   "metadata": {
    "execution": {
     "iopub.execute_input": "2023-03-03T23:45:20.306047Z",
     "iopub.status.busy": "2023-03-03T23:45:20.305224Z",
     "iopub.status.idle": "2023-03-03T23:45:20.323035Z",
     "shell.execute_reply": "2023-03-03T23:45:20.321188Z"
    },
    "papermill": {
     "duration": 0.0453,
     "end_time": "2023-03-03T23:45:20.327762",
     "exception": false,
     "start_time": "2023-03-03T23:45:20.282462",
     "status": "completed"
    },
    "tags": []
   },
   "outputs": [
    {
     "data": {
      "text/plain": [
       "0       1461\n",
       "1       1462\n",
       "2       1463\n",
       "3       1464\n",
       "4       1465\n",
       "        ... \n",
       "1454    2915\n",
       "1455    2916\n",
       "1456    2917\n",
       "1457    2918\n",
       "1458    2919\n",
       "Name: Id, Length: 1459, dtype: int64"
      ]
     },
     "execution_count": 17,
     "metadata": {},
     "output_type": "execute_result"
    }
   ],
   "source": [
    "len(h_testfirst['Id'])\n",
    "h_testfirst['Id']"
   ]
  },
  {
   "cell_type": "code",
   "execution_count": 18,
   "id": "1b311734",
   "metadata": {
    "execution": {
     "iopub.execute_input": "2023-03-03T23:45:20.368180Z",
     "iopub.status.busy": "2023-03-03T23:45:20.367232Z",
     "iopub.status.idle": "2023-03-03T23:45:20.381920Z",
     "shell.execute_reply": "2023-03-03T23:45:20.380885Z"
    },
    "papermill": {
     "duration": 0.03636,
     "end_time": "2023-03-03T23:45:20.385397",
     "exception": false,
     "start_time": "2023-03-03T23:45:20.349037",
     "status": "completed"
    },
    "tags": []
   },
   "outputs": [
    {
     "data": {
      "text/html": [
       "<div>\n",
       "<style scoped>\n",
       "    .dataframe tbody tr th:only-of-type {\n",
       "        vertical-align: middle;\n",
       "    }\n",
       "\n",
       "    .dataframe tbody tr th {\n",
       "        vertical-align: top;\n",
       "    }\n",
       "\n",
       "    .dataframe thead th {\n",
       "        text-align: right;\n",
       "    }\n",
       "</style>\n",
       "<table border=\"1\" class=\"dataframe\">\n",
       "  <thead>\n",
       "    <tr style=\"text-align: right;\">\n",
       "      <th></th>\n",
       "      <th>id</th>\n",
       "      <th>SalePrice</th>\n",
       "    </tr>\n",
       "  </thead>\n",
       "  <tbody>\n",
       "    <tr>\n",
       "      <th>0</th>\n",
       "      <td>1461</td>\n",
       "      <td>166144.751957</td>\n",
       "    </tr>\n",
       "    <tr>\n",
       "      <th>1</th>\n",
       "      <td>1462</td>\n",
       "      <td>190546.863805</td>\n",
       "    </tr>\n",
       "    <tr>\n",
       "      <th>2</th>\n",
       "      <td>1463</td>\n",
       "      <td>180731.471093</td>\n",
       "    </tr>\n",
       "    <tr>\n",
       "      <th>3</th>\n",
       "      <td>1464</td>\n",
       "      <td>175122.511695</td>\n",
       "    </tr>\n",
       "    <tr>\n",
       "      <th>4</th>\n",
       "      <td>1465</td>\n",
       "      <td>180169.676493</td>\n",
       "    </tr>\n",
       "  </tbody>\n",
       "</table>\n",
       "</div>"
      ],
      "text/plain": [
       "     id      SalePrice\n",
       "0  1461  166144.751957\n",
       "1  1462  190546.863805\n",
       "2  1463  180731.471093\n",
       "3  1464  175122.511695\n",
       "4  1465  180169.676493"
      ]
     },
     "execution_count": 18,
     "metadata": {},
     "output_type": "execute_result"
    }
   ],
   "source": [
    "solution = pd.DataFrame({\"id\":h_testfirst['Id'].values, \"SalePrice\":Y_test})\n",
    "solution = solution.fillna(solution.mean ())\n",
    "solution.head()"
   ]
  },
  {
   "cell_type": "code",
   "execution_count": 19,
   "id": "fd561761",
   "metadata": {
    "execution": {
     "iopub.execute_input": "2023-03-03T23:45:20.405115Z",
     "iopub.status.busy": "2023-03-03T23:45:20.404315Z",
     "iopub.status.idle": "2023-03-03T23:45:20.419622Z",
     "shell.execute_reply": "2023-03-03T23:45:20.418424Z"
    },
    "papermill": {
     "duration": 0.028195,
     "end_time": "2023-03-03T23:45:20.422585",
     "exception": false,
     "start_time": "2023-03-03T23:45:20.394390",
     "status": "completed"
    },
    "tags": []
   },
   "outputs": [],
   "source": [
    "solution.to_csv(\"submission.csv\", index = False)"
   ]
  }
 ],
 "metadata": {
  "kernelspec": {
   "display_name": "Python 3",
   "language": "python",
   "name": "python3"
  },
  "language_info": {
   "codemirror_mode": {
    "name": "ipython",
    "version": 3
   },
   "file_extension": ".py",
   "mimetype": "text/x-python",
   "name": "python",
   "nbconvert_exporter": "python",
   "pygments_lexer": "ipython3",
   "version": "3.7.12"
  },
  "papermill": {
   "default_parameters": {},
   "duration": 16.643006,
   "end_time": "2023-03-03T23:45:21.254685",
   "environment_variables": {},
   "exception": null,
   "input_path": "__notebook__.ipynb",
   "output_path": "__notebook__.ipynb",
   "parameters": {},
   "start_time": "2023-03-03T23:45:04.611679",
   "version": "2.4.0"
  }
 },
 "nbformat": 4,
 "nbformat_minor": 5
}
